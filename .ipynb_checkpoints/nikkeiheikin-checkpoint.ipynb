{
 "cells": [
  {
   "cell_type": "code",
   "execution_count": 68,
   "id": "911aacb4",
   "metadata": {
    "scrolled": true
   },
   "outputs": [],
   "source": [
    "import numpy as np\n",
    "import pandas as pd\n",
    "import matplotlib.pyplot as plt\n",
    "import tensorflow as tf\n",
    "from tensorflow.keras.layers import Dense, Activation, Dropout, LSTM\n",
    "from tensorflow.keras.models import Sequential\n",
    "import importlib\n",
    "import make_data as md\n",
    "importlib.reload(md)\n",
    "import make_model as mm\n",
    "importlib.reload(mm)\n",
    "import optuna\n",
    "from sklearn import metrics\n",
    "from sklearn.metrics import roc_auc_score\n",
    "from mlxtend.feature_selection import SequentialFeatureSelector as SFS\n",
    "from sklearn.ensemble import RandomForestRegressor, RandomForestClassifier\n",
    "from sklearn.svm import SVC\n",
    "from datetime import datetime as dt\n",
    "from datetime import timedelta"
   ]
  },
  {
   "cell_type": "code",
   "execution_count": 81,
   "id": "3191c9fa",
   "metadata": {},
   "outputs": [],
   "source": [
    "data, data_np = md.load_data(\"日経平均00-22日足.csv\")"
   ]
  },
  {
   "cell_type": "code",
   "execution_count": 82,
   "id": "bf1f0a86",
   "metadata": {},
   "outputs": [],
   "source": [
    "data[\"アッパーエンベロープー終値\"] = md.upper_envelope(3, 5, 1, data_np)\n",
    "data[\"ロワーエンベロープー終値\"] = md.lower_envelope(3, 5, 1, data_np)\n",
    "data[\"5日平均-25日平均\"] = md.average_line_difference(data[\"5日平均\"], data[\"25日平均\"])\n",
    "data[\"25日平均-75日平均\"] = md.average_line_difference(data[\"25日平均\"], data[\"75日平均\"])\n",
    "data_5_25 = md.cross(data[\"5日平均-25日平均\"])\n",
    "data_25_75 = md.cross(data[\"25日平均-75日平均\"])\n",
    "upper_bband, lower_bband = md.bband(data)\n",
    "data[\"アッパーボリンジャーバンド\"] = upper_bband\n",
    "data[\"ロワーボリンジャーバンド\"] = lower_bband\n",
    "data[\"ボリンジャーバンド差\"] = md.average_line_difference(data[\"アッパーボリンジャーバンド\"] ,data[\"ロワーボリンジャーバンド\"])\n",
    "data_bband_border = md.bband_border(data[\"アッパーボリンジャーバンド\"], data[\"ロワーボリンジャーバンド\"], data[\"高値\"], data[\"安値\"])\n",
    "data[\"MACD\"] =  [x - y for (x, y) in zip(md.ema(data[\"終値\"], 9), md.ema(data[\"終値\"], 26))]\n",
    "data[\"シグナルMACD\"] = md.average_line(data[\"MACD\"],9)\n",
    "data_macdcross = md.cross(md.average_line_difference(data[\"MACD\"], data[\"シグナルMACD\"]))\n",
    "data_up_or_down = md.up_or_down(data[\"終値\"])\n",
    "data_close=data[\"終値\"]"
   ]
  },
  {
   "cell_type": "code",
   "execution_count": 83,
   "id": "7c7ce5b4",
   "metadata": {},
   "outputs": [],
   "source": [
    "data = md.standardization(data)"
   ]
  },
  {
   "cell_type": "code",
   "execution_count": 84,
   "id": "1096981a",
   "metadata": {},
   "outputs": [],
   "source": [
    "data_days, data_weeks = md.data_from_year(data.index)\n",
    "#data[\"年始からの日\"] = data_days\n",
    "#data[\"年始からの週\"] = data_weeks\n",
    "data['5-25クロス'] = data_5_25\n",
    "data['25-75クロス'] = data_25_75\n",
    "data[\"ボリンジャーバンドボーダー\"] = data_bband_border\n",
    "data[\"rsi9\"] = md.rsi(data[\"終値\"],9)\n",
    "data[\"rsi14\"] = md.rsi(data[\"終値\"],14)\n",
    "data[\"MACDクロス\"] = data_macdcross"
   ]
  },
  {
   "cell_type": "code",
   "execution_count": 85,
   "id": "17dc0d6b",
   "metadata": {},
   "outputs": [],
   "source": [
    "data = data.drop([\"高値\",\"安値\",\"5日平均.1\",\"25日平均.1\", '5日平均', '25日平均', '75日平均','アッパーボリンジャーバンド', 'ロワーボリンジャーバンド'], axis=1)"
   ]
  },
  {
   "cell_type": "code",
   "execution_count": 86,
   "id": "4475e4bf",
   "metadata": {},
   "outputs": [],
   "source": [
    "data[\"騰落\"]=data_up_or_down\n",
    "data = data.dropna()\n",
    "data_np = data.to_numpy()"
   ]
  },
  {
   "cell_type": "code",
   "execution_count": 62,
   "id": "101877b5",
   "metadata": {
    "scrolled": true
   },
   "outputs": [
    {
     "name": "stderr",
     "output_type": "stream",
     "text": [
      "[Parallel(n_jobs=1)]: Using backend SequentialBackend with 1 concurrent workers.\n",
      "[Parallel(n_jobs=1)]: Done   1 out of   1 | elapsed:    7.8s remaining:    0.0s\n",
      "[Parallel(n_jobs=1)]: Done  27 out of  27 | elapsed:  3.0min finished\n",
      "\n",
      "[2022-06-08 20:45:21] Features: 1/10 -- score: 0.5723534512660423[Parallel(n_jobs=1)]: Using backend SequentialBackend with 1 concurrent workers.\n",
      "[Parallel(n_jobs=1)]: Done   1 out of   1 | elapsed:    7.0s remaining:    0.0s\n",
      "[Parallel(n_jobs=1)]: Done  26 out of  26 | elapsed:  2.5min finished\n",
      "\n",
      "[2022-06-08 20:47:54] Features: 2/10 -- score: 0.599005159556018[Parallel(n_jobs=1)]: Using backend SequentialBackend with 1 concurrent workers.\n",
      "[Parallel(n_jobs=1)]: Done   1 out of   1 | elapsed:    6.0s remaining:    0.0s\n",
      "[Parallel(n_jobs=1)]: Done  25 out of  25 | elapsed:  2.3min finished\n",
      "\n",
      "[2022-06-08 20:50:09] Features: 3/10 -- score: 0.6029608914325356[Parallel(n_jobs=1)]: Using backend SequentialBackend with 1 concurrent workers.\n",
      "[Parallel(n_jobs=1)]: Done   1 out of   1 | elapsed:    6.4s remaining:    0.0s\n",
      "[Parallel(n_jobs=1)]: Done  24 out of  24 | elapsed:  2.4min finished\n",
      "\n",
      "[2022-06-08 20:52:31] Features: 4/10 -- score: 0.6019200919181408[Parallel(n_jobs=1)]: Using backend SequentialBackend with 1 concurrent workers.\n",
      "[Parallel(n_jobs=1)]: Done   1 out of   1 | elapsed:    7.3s remaining:    0.0s\n",
      "[Parallel(n_jobs=1)]: Done  23 out of  23 | elapsed:  2.4min finished\n",
      "\n",
      "[2022-06-08 20:54:58] Features: 5/10 -- score: 0.5629845213319459[Parallel(n_jobs=1)]: Using backend SequentialBackend with 1 concurrent workers.\n",
      "[Parallel(n_jobs=1)]: Done   1 out of   1 | elapsed:    5.8s remaining:    0.0s\n",
      "[Parallel(n_jobs=1)]: Done  22 out of  22 | elapsed:  2.1min finished\n",
      "\n",
      "[2022-06-08 20:57:06] Features: 6/10 -- score: 0.6650104058272632[Parallel(n_jobs=1)]: Using backend SequentialBackend with 1 concurrent workers.\n",
      "[Parallel(n_jobs=1)]: Done   1 out of   1 | elapsed:    4.9s remaining:    0.0s\n",
      "[Parallel(n_jobs=1)]: Done  21 out of  21 | elapsed:  1.5min finished\n",
      "\n",
      "[2022-06-08 20:58:37] Features: 7/10 -- score: 0.7120577523413111[Parallel(n_jobs=1)]: Using backend SequentialBackend with 1 concurrent workers.\n",
      "[Parallel(n_jobs=1)]: Done   1 out of   1 | elapsed:    3.9s remaining:    0.0s\n",
      "[Parallel(n_jobs=1)]: Done  20 out of  20 | elapsed:  1.2min finished\n",
      "\n",
      "[2022-06-08 20:59:52] Features: 8/10 -- score: 0.7351669268123482[Parallel(n_jobs=1)]: Using backend SequentialBackend with 1 concurrent workers.\n",
      "[Parallel(n_jobs=1)]: Done   1 out of   1 | elapsed:    4.8s remaining:    0.0s\n",
      "[Parallel(n_jobs=1)]: Done  19 out of  19 | elapsed:  1.5min finished\n",
      "\n",
      "[2022-06-08 21:01:20] Features: 9/10 -- score: 0.7474475372875478[Parallel(n_jobs=1)]: Using backend SequentialBackend with 1 concurrent workers.\n",
      "[Parallel(n_jobs=1)]: Done   1 out of   1 | elapsed:    5.1s remaining:    0.0s\n",
      "[Parallel(n_jobs=1)]: Done  18 out of  18 | elapsed:  1.4min finished\n",
      "\n",
      "[2022-06-08 21:02:44] Features: 10/10 -- score: 0.7541129032258065"
     ]
    }
   ],
   "source": [
    "x_train_sfs=data.iloc[:,:-1]\n",
    "y_train_sfs=data.iloc[:,-1]\n",
    "\n",
    "sfs1 = SFS(RandomForestClassifier(), # 使う学習器\n",
    "           k_features=10, #特徴をいくつまで選択するか\n",
    "           forward=True, #Trueでforward selectionになる。Falseでback\n",
    "           floating=False, #後に説明するが、forward selectionの亜種を行うためのもの。\n",
    "           verbose=2, #実行時のlogをどれだけ詳しく表示するか\n",
    "           scoring='accuracy', # 評価指標\n",
    "           cv=5) #クロスバリデーション\n",
    "#ちなみにクロスバリデーションをしない(cv=0)とすると、最終的に選ばれる特徴が変わります。\n",
    "\n",
    "sfs1 = sfs1.fit(x_train_sfs,y_train_sfs)\n",
    "\n",
    "selected_feat = x_train_sfs.columns[list(sfs1.k_feature_idx_)]\n"
   ]
  },
  {
   "cell_type": "code",
   "execution_count": 63,
   "id": "7e747c2c",
   "metadata": {},
   "outputs": [
    {
     "data": {
      "text/plain": [
       "{1: {'feature_idx': (23,),\n",
       "  'cv_scores': array([0.55983351, 0.57960458, 0.56399584, 0.56666667, 0.59166667]),\n",
       "  'avg_score': 0.5723534512660423,\n",
       "  'feature_names': ('ボリンジャーバンドボーダー',)},\n",
       " 2: {'feature_idx': (23, 26),\n",
       "  'cv_scores': array([0.57752341, 0.60145682, 0.5962539 , 0.6       , 0.61979167]),\n",
       "  'avg_score': 0.599005159556018,\n",
       "  'feature_names': ('ボリンジャーバンドボーダー', 'MACDクロス')},\n",
       " 3: {'feature_idx': (21, 23, 26),\n",
       "  'cv_scores': array([0.58168574, 0.60561915, 0.60041623, 0.60625   , 0.62083333]),\n",
       "  'avg_score': 0.6029608914325356,\n",
       "  'feature_names': ('5-25クロス', 'ボリンジャーバンドボーダー', 'MACDクロス')},\n",
       " 4: {'feature_idx': (21, 22, 23, 26),\n",
       "  'cv_scores': array([0.58064516, 0.6024974 , 0.60041623, 0.60520833, 0.62083333]),\n",
       "  'avg_score': 0.6019200919181408,\n",
       "  'feature_names': ('5-25クロス', '25-75クロス', 'ボリンジャーバンドボーダー', 'MACDクロス')},\n",
       " 5: {'feature_idx': (21, 22, 23, 25, 26),\n",
       "  'cv_scores': array([0.56711759, 0.54318418, 0.56399584, 0.56145833, 0.57916667]),\n",
       "  'avg_score': 0.5629845213319459,\n",
       "  'feature_names': ('5-25クロス',\n",
       "   '25-75クロス',\n",
       "   'ボリンジャーバンドボーダー',\n",
       "   'rsi14',\n",
       "   'MACDクロス')},\n",
       " 6: {'feature_idx': (10, 21, 22, 23, 25, 26),\n",
       "  'cv_scores': array([0.64099896, 0.6503642 , 0.65868887, 0.70208333, 0.67291667]),\n",
       "  'avg_score': 0.6650104058272632,\n",
       "  'feature_names': ('アッパーエンベロープー終値',\n",
       "   '5-25クロス',\n",
       "   '25-75クロス',\n",
       "   'ボリンジャーバンドボーダー',\n",
       "   'rsi14',\n",
       "   'MACDクロス')},\n",
       " 7: {'feature_idx': (10, 12, 21, 22, 23, 25, 26),\n",
       "  'cv_scores': array([0.70343392, 0.71488033, 0.70447451, 0.73125   , 0.70625   ]),\n",
       "  'avg_score': 0.7120577523413111,\n",
       "  'feature_names': ('アッパーエンベロープー終値',\n",
       "   '5日平均-25日平均',\n",
       "   '5-25クロス',\n",
       "   '25-75クロス',\n",
       "   'ボリンジャーバンドボーダー',\n",
       "   'rsi14',\n",
       "   'MACDクロス')},\n",
       " 8: {'feature_idx': (1, 10, 12, 21, 22, 23, 25, 26),\n",
       "  'cv_scores': array([0.73048907, 0.7346514 , 0.73361082, 0.75729167, 0.71979167]),\n",
       "  'avg_score': 0.7351669268123482,\n",
       "  'feature_names': ('高値',\n",
       "   'アッパーエンベロープー終値',\n",
       "   '5日平均-25日平均',\n",
       "   '5-25クロス',\n",
       "   '25-75クロス',\n",
       "   'ボリンジャーバンドボーダー',\n",
       "   'rsi14',\n",
       "   'MACDクロス')},\n",
       " 9: {'feature_idx': (1, 10, 12, 21, 22, 23, 24, 25, 26),\n",
       "  'cv_scores': array([0.75858481, 0.76066597, 0.73257024, 0.76666667, 0.71875   ]),\n",
       "  'avg_score': 0.7474475372875478,\n",
       "  'feature_names': ('高値',\n",
       "   'アッパーエンベロープー終値',\n",
       "   '5日平均-25日平均',\n",
       "   '5-25クロス',\n",
       "   '25-75クロス',\n",
       "   'ボリンジャーバンドボーダー',\n",
       "   'rsi9',\n",
       "   'rsi14',\n",
       "   'MACDクロス')},\n",
       " 10: {'feature_idx': (1, 10, 12, 16, 21, 22, 23, 24, 25, 26),\n",
       "  'cv_scores': array([0.74297607, 0.76378772, 0.75130073, 0.77708333, 0.73541667]),\n",
       "  'avg_score': 0.7541129032258065,\n",
       "  'feature_names': ('高値',\n",
       "   'アッパーエンベロープー終値',\n",
       "   '5日平均-25日平均',\n",
       "   'ボリンジャーバンド差',\n",
       "   '5-25クロス',\n",
       "   '25-75クロス',\n",
       "   'ボリンジャーバンドボーダー',\n",
       "   'rsi9',\n",
       "   'rsi14',\n",
       "   'MACDクロス')}}"
      ]
     },
     "execution_count": 63,
     "metadata": {},
     "output_type": "execute_result"
    }
   ],
   "source": [
    "sfs1.subsets_"
   ]
  },
  {
   "cell_type": "code",
   "execution_count": 98,
   "id": "410beb26",
   "metadata": {},
   "outputs": [],
   "source": [
    "seq_len = 30\n",
    "epoch = 500\n",
    "x_train, y_train, x_test, y_test= mm.data_split(data_np,seq_len=seq_len, y=-1)\n",
    "model = mm.build_model([data.shape[1],50,100,1])"
   ]
  },
  {
   "cell_type": "code",
   "execution_count": 99,
   "id": "456583d0",
   "metadata": {
    "scrolled": true
   },
   "outputs": [
    {
     "name": "stdout",
     "output_type": "stream",
     "text": [
      "Epoch 1/500\n",
      "WARNING:tensorflow:Model was constructed with shape (None, 50, 17) for input Tensor(\"lstm_10_input:0\", shape=(None, 50, 17), dtype=float32), but it was called on an input with incompatible shape (None, 30, 17).\n",
      "WARNING:tensorflow:Model was constructed with shape (None, 50, 17) for input Tensor(\"lstm_10_input:0\", shape=(None, 50, 17), dtype=float32), but it was called on an input with incompatible shape (None, 30, 17).\n",
      "8/8 [==============================] - ETA: 0s - loss: 0.3304 - mae: 0.5106 - acc: 0.4973WARNING:tensorflow:Model was constructed with shape (None, 50, 17) for input Tensor(\"lstm_10_input:0\", shape=(None, 50, 17), dtype=float32), but it was called on an input with incompatible shape (None, 30, 17).\n",
      "8/8 [==============================] - 4s 531ms/step - loss: 0.3304 - mae: 0.5106 - acc: 0.4973 - val_loss: 0.2609 - val_mae: 0.4903 - val_acc: 0.5349\n",
      "Epoch 2/500\n",
      "8/8 [==============================] - 3s 377ms/step - loss: 0.2666 - mae: 0.5004 - acc: 0.4993 - val_loss: 0.2744 - val_mae: 0.5114 - val_acc: 0.4605\n",
      "Epoch 3/500\n",
      "8/8 [==============================] - 3s 383ms/step - loss: 0.2568 - mae: 0.4957 - acc: 0.5181 - val_loss: 0.2522 - val_mae: 0.4967 - val_acc: 0.5302\n",
      "Epoch 4/500\n",
      "8/8 [==============================] - 3s 382ms/step - loss: 0.2541 - mae: 0.4932 - acc: 0.5179 - val_loss: 0.2551 - val_mae: 0.5017 - val_acc: 0.4837\n",
      "Epoch 5/500\n",
      "8/8 [==============================] - 3s 399ms/step - loss: 0.2515 - mae: 0.4944 - acc: 0.5294 - val_loss: 0.2542 - val_mae: 0.5016 - val_acc: 0.4791\n",
      "Epoch 6/500\n",
      "8/8 [==============================] - 3s 376ms/step - loss: 0.2529 - mae: 0.4959 - acc: 0.5260 - val_loss: 0.2519 - val_mae: 0.4985 - val_acc: 0.4884\n",
      "Epoch 7/500\n",
      "8/8 [==============================] - 3s 374ms/step - loss: 0.2504 - mae: 0.4938 - acc: 0.5314 - val_loss: 0.2505 - val_mae: 0.4984 - val_acc: 0.5395\n",
      "Epoch 8/500\n",
      "8/8 [==============================] - 3s 378ms/step - loss: 0.2481 - mae: 0.4910 - acc: 0.5375 - val_loss: 0.2525 - val_mae: 0.4994 - val_acc: 0.4977\n",
      "Epoch 9/500\n",
      "8/8 [==============================] - 3s 396ms/step - loss: 0.2470 - mae: 0.4908 - acc: 0.5539 - val_loss: 0.2511 - val_mae: 0.4973 - val_acc: 0.5070\n",
      "Epoch 10/500\n",
      "8/8 [==============================] - 3s 386ms/step - loss: 0.2451 - mae: 0.4882 - acc: 0.5578 - val_loss: 0.2477 - val_mae: 0.4951 - val_acc: 0.5302\n",
      "Epoch 11/500\n",
      "8/8 [==============================] - 3s 378ms/step - loss: 0.2451 - mae: 0.4872 - acc: 0.5603 - val_loss: 0.2489 - val_mae: 0.4944 - val_acc: 0.5581\n",
      "Epoch 12/500\n",
      "8/8 [==============================] - 3s 388ms/step - loss: 0.2420 - mae: 0.4840 - acc: 0.5679 - val_loss: 0.2483 - val_mae: 0.4905 - val_acc: 0.5349\n",
      "Epoch 13/500\n",
      "8/8 [==============================] - 3s 388ms/step - loss: 0.2426 - mae: 0.4830 - acc: 0.5706 - val_loss: 0.2464 - val_mae: 0.4901 - val_acc: 0.5442\n",
      "Epoch 14/500\n",
      "8/8 [==============================] - 3s 377ms/step - loss: 0.2397 - mae: 0.4799 - acc: 0.5887 - val_loss: 0.2424 - val_mae: 0.4851 - val_acc: 0.5907\n",
      "Epoch 15/500\n",
      "8/8 [==============================] - 3s 378ms/step - loss: 0.2354 - mae: 0.4758 - acc: 0.6042 - val_loss: 0.2405 - val_mae: 0.4839 - val_acc: 0.6186\n",
      "Epoch 16/500\n",
      "8/8 [==============================] - 3s 375ms/step - loss: 0.2324 - mae: 0.4706 - acc: 0.6186 - val_loss: 0.2330 - val_mae: 0.4739 - val_acc: 0.6140\n",
      "Epoch 17/500\n",
      "8/8 [==============================] - 3s 378ms/step - loss: 0.2324 - mae: 0.4678 - acc: 0.6098 - val_loss: 0.2428 - val_mae: 0.4786 - val_acc: 0.5488\n",
      "Epoch 18/500\n",
      "8/8 [==============================] - 3s 377ms/step - loss: 0.2304 - mae: 0.4606 - acc: 0.6162 - val_loss: 0.2322 - val_mae: 0.4701 - val_acc: 0.6372\n",
      "Epoch 19/500\n",
      "8/8 [==============================] - 3s 386ms/step - loss: 0.2298 - mae: 0.4577 - acc: 0.6272 - val_loss: 0.2368 - val_mae: 0.4660 - val_acc: 0.6140\n",
      "Epoch 20/500\n",
      "8/8 [==============================] - 3s 433ms/step - loss: 0.2257 - mae: 0.4536 - acc: 0.6480 - val_loss: 0.2354 - val_mae: 0.4674 - val_acc: 0.5953\n",
      "Epoch 21/500\n",
      "8/8 [==============================] - 3s 436ms/step - loss: 0.2229 - mae: 0.4493 - acc: 0.6392 - val_loss: 0.2301 - val_mae: 0.4598 - val_acc: 0.6093\n",
      "Epoch 22/500\n",
      "8/8 [==============================] - 3s 382ms/step - loss: 0.2220 - mae: 0.4452 - acc: 0.6444 - val_loss: 0.2315 - val_mae: 0.4561 - val_acc: 0.6186\n",
      "Epoch 23/500\n",
      "8/8 [==============================] - 3s 413ms/step - loss: 0.2169 - mae: 0.4372 - acc: 0.6549 - val_loss: 0.2258 - val_mae: 0.4473 - val_acc: 0.6558\n",
      "Epoch 24/500\n",
      "8/8 [==============================] - 3s 410ms/step - loss: 0.2172 - mae: 0.4333 - acc: 0.6551 - val_loss: 0.2248 - val_mae: 0.4463 - val_acc: 0.6744\n",
      "Epoch 25/500\n",
      "8/8 [==============================] - 3s 389ms/step - loss: 0.2182 - mae: 0.4316 - acc: 0.6576 - val_loss: 0.2226 - val_mae: 0.4452 - val_acc: 0.6326\n",
      "Epoch 26/500\n",
      "8/8 [==============================] - 3s 414ms/step - loss: 0.2188 - mae: 0.4312 - acc: 0.6485 - val_loss: 0.2255 - val_mae: 0.4489 - val_acc: 0.6512\n"
     ]
    },
    {
     "data": {
      "text/plain": [
       "<tensorflow.python.keras.callbacks.History at 0x2c4ac921550>"
      ]
     },
     "execution_count": 99,
     "metadata": {},
     "output_type": "execute_result"
    }
   ],
   "source": [
    "callback = tf.keras.callbacks.EarlyStopping(monitor='loss', patience=3)\n",
    "model.fit(x_train, y_train, batch_size=512, epochs=epoch, validation_split=0.05, callbacks=[callback])"
   ]
  },
  {
   "cell_type": "code",
   "execution_count": 100,
   "id": "825353c9",
   "metadata": {},
   "outputs": [
    {
     "name": "stdout",
     "output_type": "stream",
     "text": [
      "WARNING:tensorflow:Model was constructed with shape (None, 50, 17) for input Tensor(\"lstm_10_input:0\", shape=(None, 50, 17), dtype=float32), but it was called on an input with incompatible shape (None, 30, 17).\n",
      "混同行列[[186  50]\n",
      " [123 118]]\n",
      "正解率は0.6373165618448637　適合率は0.6019417475728155 再現率は0.788135593220339 F値は0.6825688073394496\n"
     ]
    }
   ],
   "source": [
    "mm.evalution(x_test,y_test,model)"
   ]
  },
  {
   "cell_type": "code",
   "execution_count": 101,
   "id": "c08a72c4",
   "metadata": {},
   "outputs": [
    {
     "name": "stdout",
     "output_type": "stream",
     "text": [
      "16031.369999999995\n"
     ]
    }
   ],
   "source": [
    "x_test_close=data_close[(len(data_close)-len(x_test))-1:-1]\n",
    "value = mm.baibai(x_test,model,x_test_close)\n",
    "print(value)"
   ]
  },
  {
   "cell_type": "code",
   "execution_count": 49,
   "id": "539f6f4a",
   "metadata": {},
   "outputs": [
    {
     "name": "stdout",
     "output_type": "stream",
     "text": [
      "WARNING:tensorflow:From C:\\Users\\track\\anaconda3\\envs\\tf_cpu\\lib\\site-packages\\tensorflow\\python\\training\\tracking\\tracking.py:111: Model.state_updates (from tensorflow.python.keras.engine.training) is deprecated and will be removed in a future version.\n",
      "Instructions for updating:\n",
      "This property should not be used in TensorFlow 2.0, as updates are applied automatically.\n",
      "WARNING:tensorflow:From C:\\Users\\track\\anaconda3\\envs\\tf_cpu\\lib\\site-packages\\tensorflow\\python\\training\\tracking\\tracking.py:111: Layer.updates (from tensorflow.python.keras.engine.base_layer) is deprecated and will be removed in a future version.\n",
      "Instructions for updating:\n",
      "This property should not be used in TensorFlow 2.0, as updates are applied automatically.\n",
      "INFO:tensorflow:Assets written to: my_model2\\assets\n"
     ]
    }
   ],
   "source": [
    "model.save(\"my_model2\")\n",
    "#reconstructed_model = tf.keras.models.load_model(\"my_model\")\n",
    "#mm.draw_tran_result(reconstructed_model, x_test, y_test)"
   ]
  }
 ],
 "metadata": {
  "kernelspec": {
   "display_name": "Python 3 (ipykernel)",
   "language": "python",
   "name": "python3"
  },
  "language_info": {
   "codemirror_mode": {
    "name": "ipython",
    "version": 3
   },
   "file_extension": ".py",
   "mimetype": "text/x-python",
   "name": "python",
   "nbconvert_exporter": "python",
   "pygments_lexer": "ipython3",
   "version": "3.8.13"
  }
 },
 "nbformat": 4,
 "nbformat_minor": 5
}
