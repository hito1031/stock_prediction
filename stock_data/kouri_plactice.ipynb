{
 "cells": [
  {
   "cell_type": "code",
   "execution_count": 143,
   "id": "911aacb4",
   "metadata": {
    "scrolled": true
   },
   "outputs": [
    {
     "data": {
      "text/plain": [
       "<module 'make_model' from 'C:\\\\Users\\\\track\\\\Dropbox\\\\My PC (DESKTOP-5UJBDRJ)\\\\Desktop\\\\Machine Learning\\\\株価予測\\\\make_model.py'>"
      ]
     },
     "execution_count": 143,
     "metadata": {},
     "output_type": "execute_result"
    }
   ],
   "source": [
    "import numpy as np\n",
    "import pandas as pd\n",
    "import matplotlib.pyplot as plt\n",
    "import tensorflow as tf\n",
    "from tensorflow.keras.layers import Dense, Activation, Dropout, LSTM\n",
    "from tensorflow.keras.models import Sequential\n",
    "import importlib\n",
    "import optuna\n",
    "from sklearn import metrics\n",
    "from sklearn.metrics import roc_auc_score, accuracy_score, confusion_matrix\n",
    "from mlxtend.feature_selection import SequentialFeatureSelector as SFS\n",
    "from sklearn.ensemble import RandomForestRegressor, RandomForestClassifier\n",
    "from sklearn.svm import SVC\n",
    "from datetime import datetime as dt\n",
    "from datetime import timedelta\n",
    "import os\n",
    "os.chdir(r'C:\\Users\\track\\Dropbox\\My PC (DESKTOP-5UJBDRJ)\\Desktop\\Machine Learning\\株価予測')\n",
    "import make_data as md\n",
    "importlib.reload(md)\n",
    "import make_model as mm\n",
    "importlib.reload(mm)"
   ]
  },
  {
   "cell_type": "code",
   "execution_count": 2,
   "id": "f0c580ad",
   "metadata": {},
   "outputs": [],
   "source": [
    "os.chdir(r'C:\\Users\\track\\Dropbox\\My PC (DESKTOP-5UJBDRJ)\\Desktop\\Machine Learning\\株価予測\\stock_data\\小売')"
   ]
  },
  {
   "cell_type": "code",
   "execution_count": 3,
   "id": "66e051fd",
   "metadata": {},
   "outputs": [],
   "source": [
    "f = open(\"dict_小売.txt\",  'r')\n",
    "name_data = f.read()\n",
    "name_data = name_data.split(\" \")\n",
    "del name_data[-1]"
   ]
  },
  {
   "cell_type": "code",
   "execution_count": 129,
   "id": "3191c9fa",
   "metadata": {},
   "outputs": [],
   "source": [
    "data, data_np = md.load_data(f\"220617_{name_data[0]}_{name_data[1]}.csv\")"
   ]
  },
  {
   "cell_type": "code",
   "execution_count": 148,
   "id": "206b95da",
   "metadata": {},
   "outputs": [
    {
     "data": {
      "text/plain": [
       "timestamp\n",
       "2022-04-20 00:00:00    0.000000\n",
       "2022-04-20 00:05:00    0.000000\n",
       "2022-04-20 00:10:00    0.000000\n",
       "2022-04-20 00:15:00    0.000000\n",
       "2022-04-20 00:20:00    0.000000\n",
       "2022-04-20 00:25:00    0.000000\n",
       "2022-04-20 00:30:00    0.000000\n",
       "2022-04-20 00:35:00    0.000000\n",
       "2022-04-20 00:40:00    0.000000\n",
       "2022-04-20 00:45:00   -0.404762\n",
       "Name: rsi9, dtype: float64"
      ]
     },
     "execution_count": 148,
     "metadata": {},
     "output_type": "execute_result"
    }
   ],
   "source": [
    "pd.set_option('display.max_rows', None)\n",
    "data[\"rsi9\"][:10]\n"
   ]
  },
  {
   "cell_type": "code",
   "execution_count": 120,
   "id": "f78e6f95",
   "metadata": {
    "scrolled": true
   },
   "outputs": [],
   "source": [
    "data[\"5average\"]=md.average_line(data['close'],5)\n",
    "data[\"25average\"]=md.average_line(data['close'],25)\n",
    "data[\"75average\"]=md.average_line(data['close'],75)\n",
    "#data[\"200average\"]=md.average_line(data['close'],200)"
   ]
  },
  {
   "cell_type": "code",
   "execution_count": 121,
   "id": "bf1f0a86",
   "metadata": {},
   "outputs": [
    {
     "name": "stderr",
     "output_type": "stream",
     "text": [
      "C:\\Users\\track\\anaconda3\\envs\\tf_cpu\\lib\\site-packages\\pandas\\core\\arraylike.py:397: RuntimeWarning: invalid value encountered in sign\n",
      "  result = getattr(ufunc, method)(*inputs, **kwargs)\n",
      "C:\\Users\\track\\Desktop\\Machine Learning\\株価予測\\stock_data\\make_data.py:95: RuntimeWarning: invalid value encountered in sign\n",
      "  asign = np.sign(data_differ)\n"
     ]
    }
   ],
   "source": [
    "data[\"アッパーエンベロープー終値\"] = md.upper_envelope(data[\"close\"], data[\"5average\"], 1)\n",
    "data[\"ロワーエンベロープー終値\"] = md.lower_envelope(data[\"close\"], data[\"5average\"], 1)\n",
    "data[\"5平均-25平均\"] = md.average_line_difference(data[\"5average\"], data[\"25average\"])\n",
    "data[\"25平均-75平均\"] = md.average_line_difference(data[\"25average\"], data[\"75average\"])\n",
    "data_5_25 = md.cross(data[\"5平均-25平均\"])\n",
    "data_25_75 = md.cross(data[\"25平均-75平均\"])\n",
    "upper_bband, lower_bband = md.bband(data[\"close\"])\n",
    "data[\"アッパーボリンジャーバンド\"] = upper_bband\n",
    "data[\"ロワーボリンジャーバンド\"] = lower_bband\n",
    "data[\"ボリンジャーバンド差\"] = md.average_line_difference(data[\"アッパーボリンジャーバンド\"] ,data[\"ロワーボリンジャーバンド\"])\n",
    "data_bband_border = md.bband_border(data[\"アッパーボリンジャーバンド\"], data[\"ロワーボリンジャーバンド\"], data[\"high\"], data[\"low\"])\n",
    "data[\"MACD\"] =  [x - y for (x, y) in zip(md.ema(data[\"close\"], 9), md.ema(data[\"close\"], 26))]\n",
    "data[\"シグナルMACD\"] = md.average_line(data[\"MACD\"],9)\n",
    "data_macdcross = md.cross(md.average_line_difference(data[\"MACD\"], data[\"シグナルMACD\"]))\n",
    "data_up_or_down = md.up_or_down(data[\"close\"])\n",
    "data_close=data[\"close\"]\n",
    "data[\"終値対数階差変換\"]=md.differ(data[\"close\"])"
   ]
  },
  {
   "cell_type": "code",
   "execution_count": 122,
   "id": "7c7ce5b4",
   "metadata": {},
   "outputs": [],
   "source": [
    "data = md.standardization(data)\n"
   ]
  },
  {
   "cell_type": "code",
   "execution_count": 144,
   "id": "1096981a",
   "metadata": {
    "scrolled": true
   },
   "outputs": [
    {
     "name": "stderr",
     "output_type": "stream",
     "text": [
      "C:\\Users\\track\\Dropbox\\My PC (DESKTOP-5UJBDRJ)\\Desktop\\Machine Learning\\株価予測\\make_data.py:167: RuntimeWarning: invalid value encountered in double_scalars\n",
      "  rsi.append(0.5-(data_up_sum[i]/(data_up_sum[i]+data_down_sum[i])))\n"
     ]
    }
   ],
   "source": [
    "data['5-25クロス'] = data_5_25\n",
    "data['25-75クロス'] = data_25_75\n",
    "data[\"ボリンジャーバンドボーダー\"] = data_bband_border\n",
    "data[\"rsi9\"] = md.rsi(data[\"close\"],9)\n",
    "data[\"rsi14\"] = md.rsi(data[\"close\"],14)\n",
    "data[\"MACDクロス\"] = data_macdcross"
   ]
  },
  {
   "cell_type": "code",
   "execution_count": 124,
   "id": "17dc0d6b",
   "metadata": {},
   "outputs": [],
   "source": [
    "data = data.drop([ '5average', '25average', '75average','アッパーボリンジャーバンド', 'ロワーボリンジャーバンド','rsi9','rsi14'], axis=1)"
   ]
  },
  {
   "cell_type": "code",
   "execution_count": 125,
   "id": "4475e4bf",
   "metadata": {
    "scrolled": true
   },
   "outputs": [],
   "source": [
    "data[\"騰落\"]=data_up_or_down\n",
    "data = data.fillna(0)\n",
    "data_np = data.to_numpy()\n",
    "#data_np=np.hstack((data_np,data_up_or_down_or_stay))"
   ]
  },
  {
   "cell_type": "code",
   "execution_count": 126,
   "id": "410beb26",
   "metadata": {},
   "outputs": [],
   "source": [
    "seq_len = 50\n",
    "epoch = 500\n",
    "x_train, y_train, x_test, y_test= mm.data_split(data_np, seq_len=seq_len, y=-1)\n",
    "model = mm.build_model_Binary_class([data.shape[1],50,100,1])"
   ]
  },
  {
   "cell_type": "code",
   "execution_count": 127,
   "id": "456583d0",
   "metadata": {
    "scrolled": true
   },
   "outputs": [
    {
     "name": "stdout",
     "output_type": "stream",
     "text": [
      "Epoch 1/500\n",
      "4/4 [==============================] - 3s 744ms/step - loss: 0.6739 - acc: 0.5931 - val_loss: 0.6169 - val_acc: 0.6887\n",
      "Epoch 2/500\n",
      "4/4 [==============================] - 2s 502ms/step - loss: 0.6334 - acc: 0.6733 - val_loss: 0.6363 - val_acc: 0.6981\n",
      "Epoch 3/500\n",
      "4/4 [==============================] - 2s 500ms/step - loss: 0.6333 - acc: 0.6768 - val_loss: 0.6395 - val_acc: 0.6887\n",
      "Epoch 4/500\n",
      "4/4 [==============================] - 2s 497ms/step - loss: 0.6259 - acc: 0.6768 - val_loss: 0.6355 - val_acc: 0.6698\n",
      "Epoch 5/500\n",
      "4/4 [==============================] - 2s 502ms/step - loss: 0.6277 - acc: 0.6803 - val_loss: 0.6319 - val_acc: 0.6698\n",
      "Epoch 6/500\n",
      "4/4 [==============================] - 2s 504ms/step - loss: 0.6220 - acc: 0.6778 - val_loss: 0.6397 - val_acc: 0.6604\n",
      "Epoch 7/500\n",
      "4/4 [==============================] - 2s 532ms/step - loss: 0.6228 - acc: 0.6818 - val_loss: 0.6414 - val_acc: 0.6415\n",
      "Epoch 8/500\n",
      "4/4 [==============================] - 2s 510ms/step - loss: 0.6197 - acc: 0.6783 - val_loss: 0.6338 - val_acc: 0.6604\n",
      "Epoch 9/500\n",
      "4/4 [==============================] - 2s 510ms/step - loss: 0.6194 - acc: 0.6833 - val_loss: 0.6358 - val_acc: 0.6604\n",
      "Epoch 10/500\n",
      "4/4 [==============================] - 2s 505ms/step - loss: 0.6205 - acc: 0.6778 - val_loss: 0.6477 - val_acc: 0.6509\n",
      "Epoch 11/500\n",
      "4/4 [==============================] - 2s 504ms/step - loss: 0.6144 - acc: 0.6798 - val_loss: 0.6362 - val_acc: 0.6415\n",
      "Epoch 12/500\n",
      "4/4 [==============================] - 2s 531ms/step - loss: 0.6177 - acc: 0.6843 - val_loss: 0.6375 - val_acc: 0.6415\n",
      "Epoch 13/500\n",
      "4/4 [==============================] - 2s 503ms/step - loss: 0.6122 - acc: 0.6882 - val_loss: 0.6472 - val_acc: 0.6321\n",
      "Epoch 14/500\n",
      "4/4 [==============================] - 2s 531ms/step - loss: 0.6143 - acc: 0.6808 - val_loss: 0.6452 - val_acc: 0.6415\n",
      "Epoch 15/500\n",
      "4/4 [==============================] - 2s 524ms/step - loss: 0.6131 - acc: 0.6863 - val_loss: 0.6382 - val_acc: 0.6415\n",
      "Epoch 16/500\n",
      "4/4 [==============================] - 2s 515ms/step - loss: 0.6109 - acc: 0.6853 - val_loss: 0.6503 - val_acc: 0.6321\n",
      "Epoch 17/500\n",
      "4/4 [==============================] - 2s 506ms/step - loss: 0.6102 - acc: 0.6882 - val_loss: 0.6516 - val_acc: 0.6132\n",
      "Epoch 18/500\n",
      "4/4 [==============================] - 2s 510ms/step - loss: 0.6080 - acc: 0.6853 - val_loss: 0.6549 - val_acc: 0.5943\n",
      "Epoch 19/500\n",
      "4/4 [==============================] - 2s 525ms/step - loss: 0.6079 - acc: 0.6873 - val_loss: 0.6468 - val_acc: 0.5943\n",
      "Epoch 20/500\n",
      "4/4 [==============================] - 2s 519ms/step - loss: 0.6052 - acc: 0.6868 - val_loss: 0.6533 - val_acc: 0.6132\n",
      "Epoch 21/500\n",
      "4/4 [==============================] - 2s 512ms/step - loss: 0.6017 - acc: 0.6912 - val_loss: 0.6734 - val_acc: 0.5566\n",
      "Epoch 22/500\n",
      "4/4 [==============================] - 2s 512ms/step - loss: 0.6042 - acc: 0.6942 - val_loss: 0.6522 - val_acc: 0.5943\n",
      "Epoch 23/500\n",
      "4/4 [==============================] - 2s 516ms/step - loss: 0.6014 - acc: 0.6897 - val_loss: 0.6425 - val_acc: 0.6226\n",
      "Epoch 24/500\n",
      "4/4 [==============================] - 2s 517ms/step - loss: 0.6020 - acc: 0.6868 - val_loss: 0.6691 - val_acc: 0.5849\n",
      "Epoch 25/500\n",
      "4/4 [==============================] - 2s 513ms/step - loss: 0.6024 - acc: 0.6877 - val_loss: 0.6573 - val_acc: 0.5943\n",
      "Epoch 26/500\n",
      "4/4 [==============================] - 2s 518ms/step - loss: 0.5988 - acc: 0.6892 - val_loss: 0.6522 - val_acc: 0.6226\n",
      "Epoch 27/500\n",
      "4/4 [==============================] - 2s 516ms/step - loss: 0.5985 - acc: 0.6897 - val_loss: 0.6651 - val_acc: 0.6321\n",
      "Epoch 28/500\n",
      "4/4 [==============================] - 2s 518ms/step - loss: 0.5968 - acc: 0.6927 - val_loss: 0.6515 - val_acc: 0.6226\n",
      "Epoch 29/500\n",
      "4/4 [==============================] - 2s 517ms/step - loss: 0.5983 - acc: 0.6873 - val_loss: 0.6511 - val_acc: 0.6132\n",
      "Epoch 30/500\n",
      "4/4 [==============================] - 2s 517ms/step - loss: 0.5985 - acc: 0.6887 - val_loss: 0.6687 - val_acc: 0.6415\n",
      "Epoch 31/500\n",
      "4/4 [==============================] - 2s 523ms/step - loss: 0.5979 - acc: 0.6892 - val_loss: 0.6524 - val_acc: 0.6321\n",
      "Epoch 32/500\n",
      "4/4 [==============================] - 2s 517ms/step - loss: 0.5914 - acc: 0.6937 - val_loss: 0.6573 - val_acc: 0.6132\n",
      "Epoch 33/500\n",
      "4/4 [==============================] - 2s 554ms/step - loss: 0.5915 - acc: 0.6927 - val_loss: 0.6680 - val_acc: 0.6321\n",
      "Epoch 34/500\n",
      "4/4 [==============================] - 2s 544ms/step - loss: 0.5915 - acc: 0.6927 - val_loss: 0.6487 - val_acc: 0.6132\n",
      "Epoch 35/500\n",
      "4/4 [==============================] - 2s 549ms/step - loss: 0.5887 - acc: 0.6907 - val_loss: 0.6579 - val_acc: 0.6226\n",
      "Epoch 36/500\n",
      "4/4 [==============================] - 2s 560ms/step - loss: 0.5891 - acc: 0.7012 - val_loss: 0.6680 - val_acc: 0.6321\n",
      "Epoch 37/500\n",
      "4/4 [==============================] - 2s 546ms/step - loss: 0.5846 - acc: 0.6937 - val_loss: 0.6691 - val_acc: 0.6132\n",
      "Epoch 38/500\n",
      "4/4 [==============================] - 2s 548ms/step - loss: 0.5832 - acc: 0.6952 - val_loss: 0.6561 - val_acc: 0.6415\n",
      "Epoch 39/500\n",
      "4/4 [==============================] - 2s 556ms/step - loss: 0.5828 - acc: 0.6937 - val_loss: 0.6595 - val_acc: 0.6415\n",
      "Epoch 40/500\n",
      "4/4 [==============================] - 2s 554ms/step - loss: 0.5839 - acc: 0.6937 - val_loss: 0.6698 - val_acc: 0.6226\n",
      "Epoch 41/500\n",
      "4/4 [==============================] - 2s 557ms/step - loss: 0.5785 - acc: 0.7007 - val_loss: 0.6684 - val_acc: 0.6415\n",
      "Epoch 42/500\n",
      "4/4 [==============================] - 2s 546ms/step - loss: 0.5775 - acc: 0.7012 - val_loss: 0.6612 - val_acc: 0.6321\n",
      "Epoch 43/500\n",
      "4/4 [==============================] - 3s 675ms/step - loss: 0.5769 - acc: 0.6947 - val_loss: 0.6587 - val_acc: 0.6226\n",
      "Epoch 44/500\n",
      "4/4 [==============================] - 2s 585ms/step - loss: 0.5771 - acc: 0.6997 - val_loss: 0.6613 - val_acc: 0.6132\n",
      "Epoch 45/500\n",
      "4/4 [==============================] - 2s 607ms/step - loss: 0.5714 - acc: 0.6977 - val_loss: 0.6648 - val_acc: 0.6038\n",
      "Epoch 46/500\n",
      "4/4 [==============================] - 2s 612ms/step - loss: 0.5691 - acc: 0.7017 - val_loss: 0.6693 - val_acc: 0.6226\n",
      "Epoch 47/500\n",
      "4/4 [==============================] - 2s 541ms/step - loss: 0.5690 - acc: 0.7087 - val_loss: 0.6605 - val_acc: 0.6226\n",
      "Epoch 48/500\n",
      "4/4 [==============================] - 2s 546ms/step - loss: 0.5656 - acc: 0.7077 - val_loss: 0.6485 - val_acc: 0.6415\n",
      "Epoch 49/500\n",
      "4/4 [==============================] - 2s 543ms/step - loss: 0.5705 - acc: 0.7027 - val_loss: 0.6676 - val_acc: 0.6321\n",
      "Epoch 50/500\n",
      "4/4 [==============================] - 2s 551ms/step - loss: 0.5654 - acc: 0.6992 - val_loss: 0.6612 - val_acc: 0.6415\n",
      "Epoch 51/500\n",
      "4/4 [==============================] - 2s 550ms/step - loss: 0.5618 - acc: 0.7017 - val_loss: 0.6646 - val_acc: 0.6321\n",
      "Epoch 52/500\n",
      "4/4 [==============================] - 2s 548ms/step - loss: 0.5517 - acc: 0.7196 - val_loss: 0.6827 - val_acc: 0.6132\n",
      "Epoch 53/500\n",
      "4/4 [==============================] - 2s 538ms/step - loss: 0.5561 - acc: 0.7186 - val_loss: 0.6950 - val_acc: 0.5943\n",
      "Epoch 54/500\n",
      "4/4 [==============================] - 2s 536ms/step - loss: 0.5599 - acc: 0.7141 - val_loss: 0.6792 - val_acc: 0.6226\n",
      "Epoch 55/500\n",
      "4/4 [==============================] - 2s 543ms/step - loss: 0.5612 - acc: 0.7171 - val_loss: 0.6743 - val_acc: 0.6321\n",
      "Epoch 56/500\n",
      "4/4 [==============================] - 2s 545ms/step - loss: 0.5537 - acc: 0.7067 - val_loss: 0.6706 - val_acc: 0.6226\n",
      "Epoch 57/500\n",
      "4/4 [==============================] - 2s 551ms/step - loss: 0.5454 - acc: 0.7206 - val_loss: 0.6717 - val_acc: 0.6415\n",
      "Epoch 58/500\n",
      "4/4 [==============================] - 2s 547ms/step - loss: 0.5457 - acc: 0.7146 - val_loss: 0.6813 - val_acc: 0.6132\n",
      "Epoch 59/500\n",
      "4/4 [==============================] - 2s 547ms/step - loss: 0.5426 - acc: 0.7211 - val_loss: 0.6982 - val_acc: 0.5849\n",
      "Epoch 60/500\n",
      "4/4 [==============================] - 2s 543ms/step - loss: 0.5406 - acc: 0.7146 - val_loss: 0.6740 - val_acc: 0.6321\n",
      "Epoch 61/500\n",
      "4/4 [==============================] - 2s 552ms/step - loss: 0.5357 - acc: 0.7296 - val_loss: 0.6717 - val_acc: 0.6226\n",
      "Epoch 62/500\n",
      "4/4 [==============================] - 2s 598ms/step - loss: 0.5400 - acc: 0.7196 - val_loss: 0.6786 - val_acc: 0.5377\n",
      "Epoch 63/500\n"
     ]
    },
    {
     "name": "stdout",
     "output_type": "stream",
     "text": [
      "4/4 [==============================] - 2s 614ms/step - loss: 0.5318 - acc: 0.7326 - val_loss: 0.6740 - val_acc: 0.6321\n",
      "Epoch 64/500\n",
      "4/4 [==============================] - 2s 610ms/step - loss: 0.5316 - acc: 0.7276 - val_loss: 0.7156 - val_acc: 0.5849\n",
      "Epoch 65/500\n",
      "4/4 [==============================] - 2s 597ms/step - loss: 0.5339 - acc: 0.7256 - val_loss: 0.6705 - val_acc: 0.6132\n",
      "Epoch 66/500\n",
      "4/4 [==============================] - 2s 592ms/step - loss: 0.5269 - acc: 0.7236 - val_loss: 0.6495 - val_acc: 0.6604\n",
      "Epoch 67/500\n",
      "4/4 [==============================] - 2s 589ms/step - loss: 0.5258 - acc: 0.7226 - val_loss: 0.7095 - val_acc: 0.6038\n",
      "Epoch 68/500\n",
      "4/4 [==============================] - 2s 596ms/step - loss: 0.5270 - acc: 0.7221 - val_loss: 0.7165 - val_acc: 0.6038\n",
      "Epoch 69/500\n",
      "4/4 [==============================] - 2s 586ms/step - loss: 0.5147 - acc: 0.7221 - val_loss: 0.6980 - val_acc: 0.6509\n",
      "Epoch 70/500\n",
      "4/4 [==============================] - 2s 598ms/step - loss: 0.5281 - acc: 0.7196 - val_loss: 0.7021 - val_acc: 0.5849\n",
      "Epoch 71/500\n",
      "4/4 [==============================] - 2s 585ms/step - loss: 0.5176 - acc: 0.7405 - val_loss: 0.7181 - val_acc: 0.5943\n",
      "Epoch 72/500\n",
      "4/4 [==============================] - 2s 577ms/step - loss: 0.5119 - acc: 0.7336 - val_loss: 0.6770 - val_acc: 0.6509\n",
      "Epoch 73/500\n",
      "4/4 [==============================] - 2s 584ms/step - loss: 0.5126 - acc: 0.7356 - val_loss: 0.6609 - val_acc: 0.6792\n",
      "Epoch 74/500\n",
      "4/4 [==============================] - 2s 577ms/step - loss: 0.5142 - acc: 0.7261 - val_loss: 0.7070 - val_acc: 0.6132\n",
      "Epoch 75/500\n",
      "4/4 [==============================] - 2s 607ms/step - loss: 0.5063 - acc: 0.7430 - val_loss: 0.7017 - val_acc: 0.6415\n",
      "Epoch 76/500\n",
      "4/4 [==============================] - 3s 633ms/step - loss: 0.4956 - acc: 0.7530 - val_loss: 0.7181 - val_acc: 0.6038\n",
      "Epoch 77/500\n",
      "4/4 [==============================] - 2s 618ms/step - loss: 0.4978 - acc: 0.7495 - val_loss: 0.7005 - val_acc: 0.6509\n",
      "Epoch 78/500\n",
      "4/4 [==============================] - 2s 605ms/step - loss: 0.4893 - acc: 0.7510 - val_loss: 0.7324 - val_acc: 0.6321\n",
      "Epoch 79/500\n",
      "4/4 [==============================] - 2s 619ms/step - loss: 0.4962 - acc: 0.7405 - val_loss: 0.7105 - val_acc: 0.6321\n",
      "Epoch 80/500\n",
      "4/4 [==============================] - 2s 620ms/step - loss: 0.4990 - acc: 0.7415 - val_loss: 0.7336 - val_acc: 0.5943\n",
      "Epoch 81/500\n",
      "4/4 [==============================] - 2s 598ms/step - loss: 0.4876 - acc: 0.7585 - val_loss: 0.6986 - val_acc: 0.6415\n",
      "Epoch 82/500\n",
      "4/4 [==============================] - 2s 589ms/step - loss: 0.4811 - acc: 0.7535 - val_loss: 0.7357 - val_acc: 0.6038\n",
      "Epoch 83/500\n",
      "4/4 [==============================] - 2s 586ms/step - loss: 0.4875 - acc: 0.7595 - val_loss: 0.6888 - val_acc: 0.6415\n",
      "Epoch 84/500\n",
      "4/4 [==============================] - 2s 591ms/step - loss: 0.4906 - acc: 0.7430 - val_loss: 0.7481 - val_acc: 0.6038\n",
      "Epoch 85/500\n",
      "4/4 [==============================] - 2s 597ms/step - loss: 0.4828 - acc: 0.7510 - val_loss: 0.6824 - val_acc: 0.6226\n",
      "Epoch 86/500\n",
      "4/4 [==============================] - 2s 589ms/step - loss: 0.4776 - acc: 0.7684 - val_loss: 0.7471 - val_acc: 0.5755\n",
      "Epoch 87/500\n",
      "4/4 [==============================] - 2s 598ms/step - loss: 0.4714 - acc: 0.7610 - val_loss: 0.7229 - val_acc: 0.6132\n",
      "Epoch 88/500\n",
      "4/4 [==============================] - 2s 600ms/step - loss: 0.4650 - acc: 0.7659 - val_loss: 0.7440 - val_acc: 0.5943\n",
      "Epoch 89/500\n",
      "4/4 [==============================] - 2s 609ms/step - loss: 0.4604 - acc: 0.7679 - val_loss: 0.7051 - val_acc: 0.6415\n",
      "Epoch 90/500\n",
      "4/4 [==============================] - 2s 593ms/step - loss: 0.4593 - acc: 0.7684 - val_loss: 0.7812 - val_acc: 0.5755\n",
      "Epoch 91/500\n",
      "4/4 [==============================] - 2s 600ms/step - loss: 0.4737 - acc: 0.7590 - val_loss: 0.7452 - val_acc: 0.6226\n",
      "Epoch 92/500\n",
      "4/4 [==============================] - 2s 583ms/step - loss: 0.4656 - acc: 0.7694 - val_loss: 0.7273 - val_acc: 0.6038\n",
      "Epoch 93/500\n",
      "4/4 [==============================] - 2s 591ms/step - loss: 0.4610 - acc: 0.7759 - val_loss: 0.6663 - val_acc: 0.6415\n",
      "Epoch 94/500\n",
      "4/4 [==============================] - 2s 583ms/step - loss: 0.4565 - acc: 0.7709 - val_loss: 0.7144 - val_acc: 0.6604\n",
      "Epoch 95/500\n",
      "4/4 [==============================] - 3s 626ms/step - loss: 0.4480 - acc: 0.7819 - val_loss: 0.7168 - val_acc: 0.6321\n",
      "Epoch 96/500\n",
      "4/4 [==============================] - 2s 591ms/step - loss: 0.4613 - acc: 0.7689 - val_loss: 0.6448 - val_acc: 0.6792\n",
      "Epoch 97/500\n",
      "4/4 [==============================] - 2s 587ms/step - loss: 0.4534 - acc: 0.7749 - val_loss: 0.7360 - val_acc: 0.5943\n",
      "Epoch 98/500\n",
      "4/4 [==============================] - 2s 593ms/step - loss: 0.4459 - acc: 0.7804 - val_loss: 0.7489 - val_acc: 0.6509\n",
      "Epoch 99/500\n",
      "4/4 [==============================] - 2s 611ms/step - loss: 0.4395 - acc: 0.7774 - val_loss: 0.7295 - val_acc: 0.6509\n",
      "Epoch 100/500\n",
      "4/4 [==============================] - 2s 615ms/step - loss: 0.4346 - acc: 0.7878 - val_loss: 0.7132 - val_acc: 0.6415\n",
      "Epoch 101/500\n",
      "4/4 [==============================] - 3s 635ms/step - loss: 0.4264 - acc: 0.7874 - val_loss: 0.6979 - val_acc: 0.6604\n",
      "Epoch 102/500\n",
      "4/4 [==============================] - 2s 598ms/step - loss: 0.4213 - acc: 0.7973 - val_loss: 0.7029 - val_acc: 0.6509\n",
      "Epoch 103/500\n",
      "4/4 [==============================] - 2s 588ms/step - loss: 0.4185 - acc: 0.7938 - val_loss: 0.6713 - val_acc: 0.6698\n",
      "Epoch 104/500\n",
      "4/4 [==============================] - 2s 590ms/step - loss: 0.4155 - acc: 0.7953 - val_loss: 0.7319 - val_acc: 0.6415\n",
      "Epoch 105/500\n",
      "4/4 [==============================] - 2s 593ms/step - loss: 0.4140 - acc: 0.7998 - val_loss: 0.6472 - val_acc: 0.6981\n",
      "Epoch 106/500\n",
      "4/4 [==============================] - 2s 588ms/step - loss: 0.4086 - acc: 0.8008 - val_loss: 0.6977 - val_acc: 0.6604\n",
      "Epoch 107/500\n",
      "4/4 [==============================] - 2s 593ms/step - loss: 0.4084 - acc: 0.7948 - val_loss: 0.7659 - val_acc: 0.6321\n",
      "Epoch 108/500\n",
      "4/4 [==============================] - 2s 617ms/step - loss: 0.4134 - acc: 0.7973 - val_loss: 0.7351 - val_acc: 0.6509\n",
      "Epoch 109/500\n",
      "4/4 [==============================] - 2s 597ms/step - loss: 0.4099 - acc: 0.8088 - val_loss: 0.7021 - val_acc: 0.6887\n",
      "Epoch 110/500\n",
      "4/4 [==============================] - 2s 586ms/step - loss: 0.4331 - acc: 0.7844 - val_loss: 0.6391 - val_acc: 0.6887\n",
      "Epoch 111/500\n",
      "4/4 [==============================] - 2s 589ms/step - loss: 0.4086 - acc: 0.8003 - val_loss: 0.7964 - val_acc: 0.6698\n",
      "Epoch 112/500\n",
      "4/4 [==============================] - 2s 574ms/step - loss: 0.4063 - acc: 0.8098 - val_loss: 0.7704 - val_acc: 0.6509\n",
      "Epoch 113/500\n",
      "4/4 [==============================] - 2s 612ms/step - loss: 0.4062 - acc: 0.8083 - val_loss: 0.6963 - val_acc: 0.6321\n",
      "Epoch 114/500\n",
      "4/4 [==============================] - 2s 592ms/step - loss: 0.3946 - acc: 0.8113 - val_loss: 0.7741 - val_acc: 0.6604\n",
      "Epoch 115/500\n",
      "4/4 [==============================] - 2s 586ms/step - loss: 0.3853 - acc: 0.8053 - val_loss: 0.7828 - val_acc: 0.6509\n",
      "Epoch 116/500\n",
      "4/4 [==============================] - 2s 607ms/step - loss: 0.3820 - acc: 0.8197 - val_loss: 0.7462 - val_acc: 0.6604\n",
      "Epoch 117/500\n",
      "4/4 [==============================] - 2s 613ms/step - loss: 0.3776 - acc: 0.8222 - val_loss: 0.6848 - val_acc: 0.6604\n",
      "Epoch 118/500\n",
      "4/4 [==============================] - 2s 596ms/step - loss: 0.3721 - acc: 0.8172 - val_loss: 0.7443 - val_acc: 0.6698\n",
      "Epoch 119/500\n",
      "4/4 [==============================] - 2s 609ms/step - loss: 0.3760 - acc: 0.8237 - val_loss: 0.7243 - val_acc: 0.6604\n",
      "Epoch 120/500\n",
      "4/4 [==============================] - 2s 607ms/step - loss: 0.3820 - acc: 0.8167 - val_loss: 0.7473 - val_acc: 0.6321\n",
      "Epoch 121/500\n",
      "4/4 [==============================] - 2s 605ms/step - loss: 0.3691 - acc: 0.8262 - val_loss: 0.7331 - val_acc: 0.6604\n",
      "Epoch 122/500\n",
      "4/4 [==============================] - 2s 618ms/step - loss: 0.3758 - acc: 0.8222 - val_loss: 0.7678 - val_acc: 0.6321\n",
      "Epoch 123/500\n",
      "4/4 [==============================] - 3s 696ms/step - loss: 0.3559 - acc: 0.8362 - val_loss: 0.7602 - val_acc: 0.6887\n",
      "Epoch 124/500\n",
      "4/4 [==============================] - 3s 661ms/step - loss: 0.3576 - acc: 0.8327 - val_loss: 0.7159 - val_acc: 0.6792\n"
     ]
    },
    {
     "name": "stdout",
     "output_type": "stream",
     "text": [
      "Epoch 125/500\n",
      "4/4 [==============================] - 2s 592ms/step - loss: 0.3657 - acc: 0.8337 - val_loss: 0.7351 - val_acc: 0.7264\n",
      "Epoch 126/500\n",
      "4/4 [==============================] - 2s 593ms/step - loss: 0.3512 - acc: 0.8297 - val_loss: 0.7225 - val_acc: 0.6604\n",
      "Epoch 127/500\n",
      "4/4 [==============================] - 2s 590ms/step - loss: 0.3429 - acc: 0.8446 - val_loss: 0.7969 - val_acc: 0.6698\n",
      "Epoch 128/500\n",
      "4/4 [==============================] - 2s 593ms/step - loss: 0.3461 - acc: 0.8362 - val_loss: 0.7995 - val_acc: 0.7358\n",
      "Epoch 129/500\n",
      "4/4 [==============================] - 2s 587ms/step - loss: 0.3467 - acc: 0.8411 - val_loss: 0.7418 - val_acc: 0.6698\n",
      "Epoch 130/500\n",
      "4/4 [==============================] - 2s 606ms/step - loss: 0.3381 - acc: 0.8451 - val_loss: 0.7388 - val_acc: 0.7075\n",
      "Epoch 131/500\n",
      "4/4 [==============================] - 2s 608ms/step - loss: 0.3432 - acc: 0.8401 - val_loss: 0.8334 - val_acc: 0.6604\n",
      "Epoch 132/500\n",
      "4/4 [==============================] - 2s 617ms/step - loss: 0.3461 - acc: 0.8372 - val_loss: 0.7863 - val_acc: 0.6887\n",
      "Epoch 133/500\n",
      "4/4 [==============================] - 2s 592ms/step - loss: 0.3462 - acc: 0.8396 - val_loss: 0.8153 - val_acc: 0.6604\n",
      "Epoch 134/500\n",
      "4/4 [==============================] - 2s 589ms/step - loss: 0.3355 - acc: 0.8426 - val_loss: 0.8205 - val_acc: 0.6887\n",
      "Epoch 135/500\n",
      "4/4 [==============================] - 2s 587ms/step - loss: 0.3219 - acc: 0.8556 - val_loss: 0.7974 - val_acc: 0.7075\n",
      "Epoch 136/500\n",
      "4/4 [==============================] - 2s 602ms/step - loss: 0.3237 - acc: 0.8461 - val_loss: 0.8623 - val_acc: 0.6887\n",
      "Epoch 137/500\n",
      "4/4 [==============================] - 2s 590ms/step - loss: 0.3152 - acc: 0.8541 - val_loss: 0.8451 - val_acc: 0.6981\n",
      "Epoch 138/500\n",
      "4/4 [==============================] - 2s 612ms/step - loss: 0.3143 - acc: 0.8546 - val_loss: 0.7894 - val_acc: 0.6887\n",
      "Epoch 139/500\n",
      "4/4 [==============================] - 2s 617ms/step - loss: 0.3153 - acc: 0.8591 - val_loss: 0.7294 - val_acc: 0.6981\n",
      "Epoch 140/500\n",
      "4/4 [==============================] - 3s 671ms/step - loss: 0.3096 - acc: 0.8561 - val_loss: 0.7690 - val_acc: 0.7075\n",
      "Epoch 141/500\n",
      "4/4 [==============================] - 3s 633ms/step - loss: 0.3052 - acc: 0.8496 - val_loss: 0.8036 - val_acc: 0.6509\n",
      "Epoch 142/500\n",
      "4/4 [==============================] - 2s 607ms/step - loss: 0.2932 - acc: 0.8640 - val_loss: 0.8508 - val_acc: 0.6415\n",
      "Epoch 143/500\n",
      "4/4 [==============================] - 2s 610ms/step - loss: 0.2970 - acc: 0.8655 - val_loss: 0.7823 - val_acc: 0.7170\n",
      "Epoch 144/500\n",
      "4/4 [==============================] - 2s 595ms/step - loss: 0.2800 - acc: 0.8650 - val_loss: 0.8285 - val_acc: 0.6698\n",
      "Epoch 145/500\n",
      "4/4 [==============================] - 2s 607ms/step - loss: 0.2888 - acc: 0.8720 - val_loss: 0.7535 - val_acc: 0.6981\n",
      "Epoch 146/500\n",
      "4/4 [==============================] - 2s 600ms/step - loss: 0.2847 - acc: 0.8710 - val_loss: 0.9056 - val_acc: 0.6887\n",
      "Epoch 147/500\n",
      "4/4 [==============================] - 2s 594ms/step - loss: 0.2828 - acc: 0.8695 - val_loss: 0.8250 - val_acc: 0.7075\n",
      "Epoch 148/500\n",
      "4/4 [==============================] - 2s 594ms/step - loss: 0.2835 - acc: 0.8695 - val_loss: 0.7442 - val_acc: 0.6698\n",
      "Epoch 149/500\n",
      "4/4 [==============================] - 2s 598ms/step - loss: 0.2615 - acc: 0.8974 - val_loss: 0.7754 - val_acc: 0.6604\n",
      "Epoch 150/500\n",
      "4/4 [==============================] - 2s 619ms/step - loss: 0.2663 - acc: 0.8735 - val_loss: 0.9069 - val_acc: 0.6509\n",
      "Epoch 151/500\n",
      "4/4 [==============================] - 2s 606ms/step - loss: 0.2717 - acc: 0.8805 - val_loss: 0.8293 - val_acc: 0.6698\n",
      "Epoch 152/500\n",
      "4/4 [==============================] - 2s 589ms/step - loss: 0.2586 - acc: 0.8899 - val_loss: 0.8088 - val_acc: 0.7170\n",
      "Epoch 153/500\n",
      "4/4 [==============================] - 2s 601ms/step - loss: 0.2497 - acc: 0.8909 - val_loss: 0.8746 - val_acc: 0.7075\n",
      "Epoch 154/500\n",
      "4/4 [==============================] - 2s 597ms/step - loss: 0.2553 - acc: 0.8810 - val_loss: 0.8345 - val_acc: 0.6698\n",
      "Epoch 155/500\n",
      "4/4 [==============================] - 2s 604ms/step - loss: 0.2447 - acc: 0.8999 - val_loss: 0.9306 - val_acc: 0.6792\n",
      "Epoch 156/500\n",
      "4/4 [==============================] - 2s 610ms/step - loss: 0.2464 - acc: 0.8870 - val_loss: 0.9752 - val_acc: 0.6792\n",
      "Epoch 157/500\n",
      "4/4 [==============================] - 2s 619ms/step - loss: 0.2571 - acc: 0.8909 - val_loss: 0.7969 - val_acc: 0.7075\n",
      "Epoch 158/500\n",
      "4/4 [==============================] - 2s 619ms/step - loss: 0.2454 - acc: 0.8919 - val_loss: 0.9129 - val_acc: 0.6698\n",
      "Epoch 159/500\n",
      "4/4 [==============================] - 3s 632ms/step - loss: 0.2382 - acc: 0.8964 - val_loss: 0.9828 - val_acc: 0.6604\n",
      "Epoch 160/500\n",
      "4/4 [==============================] - 3s 637ms/step - loss: 0.2462 - acc: 0.8845 - val_loss: 0.8826 - val_acc: 0.6698\n",
      "Epoch 161/500\n",
      "4/4 [==============================] - 3s 630ms/step - loss: 0.2471 - acc: 0.8860 - val_loss: 0.8504 - val_acc: 0.6887\n",
      "Epoch 162/500\n",
      "4/4 [==============================] - 3s 631ms/step - loss: 0.2332 - acc: 0.8989 - val_loss: 0.8997 - val_acc: 0.6981\n",
      "Epoch 163/500\n",
      "4/4 [==============================] - 2s 610ms/step - loss: 0.2496 - acc: 0.8879 - val_loss: 0.8434 - val_acc: 0.6698\n",
      "Epoch 164/500\n",
      "4/4 [==============================] - 2s 621ms/step - loss: 0.2420 - acc: 0.8944 - val_loss: 0.9403 - val_acc: 0.6698\n",
      "Epoch 165/500\n",
      "4/4 [==============================] - 2s 615ms/step - loss: 0.2380 - acc: 0.8939 - val_loss: 0.8682 - val_acc: 0.6887\n",
      "Epoch 166/500\n",
      "4/4 [==============================] - 2s 607ms/step - loss: 0.2328 - acc: 0.8954 - val_loss: 0.9355 - val_acc: 0.6887\n",
      "Epoch 167/500\n",
      "4/4 [==============================] - 2s 606ms/step - loss: 0.2430 - acc: 0.8944 - val_loss: 1.0031 - val_acc: 0.6226\n",
      "Epoch 168/500\n",
      "4/4 [==============================] - 2s 613ms/step - loss: 0.2384 - acc: 0.8999 - val_loss: 0.9916 - val_acc: 0.6887\n",
      "Epoch 169/500\n",
      "4/4 [==============================] - 3s 655ms/step - loss: 0.2293 - acc: 0.9029 - val_loss: 0.8346 - val_acc: 0.6981\n",
      "Epoch 170/500\n",
      "4/4 [==============================] - 2s 617ms/step - loss: 0.2384 - acc: 0.9004 - val_loss: 0.9113 - val_acc: 0.6226\n",
      "Epoch 171/500\n",
      "4/4 [==============================] - 2s 624ms/step - loss: 0.2337 - acc: 0.8964 - val_loss: 0.9199 - val_acc: 0.6887\n",
      "Epoch 172/500\n",
      "4/4 [==============================] - 2s 607ms/step - loss: 0.2203 - acc: 0.9029 - val_loss: 0.9970 - val_acc: 0.6887\n",
      "Epoch 173/500\n",
      "4/4 [==============================] - 2s 619ms/step - loss: 0.2117 - acc: 0.9143 - val_loss: 0.8775 - val_acc: 0.7264\n",
      "Epoch 174/500\n",
      "4/4 [==============================] - 2s 617ms/step - loss: 0.2115 - acc: 0.9074 - val_loss: 0.9740 - val_acc: 0.6981\n",
      "Epoch 175/500\n",
      "4/4 [==============================] - 2s 618ms/step - loss: 0.2157 - acc: 0.9074 - val_loss: 0.9737 - val_acc: 0.7075\n",
      "Epoch 176/500\n",
      "4/4 [==============================] - 2s 620ms/step - loss: 0.2187 - acc: 0.9049 - val_loss: 0.9184 - val_acc: 0.6981\n",
      "Epoch 177/500\n",
      "4/4 [==============================] - 2s 619ms/step - loss: 0.1965 - acc: 0.9158 - val_loss: 1.0591 - val_acc: 0.6792\n",
      "Epoch 178/500\n",
      "4/4 [==============================] - 3s 634ms/step - loss: 0.2071 - acc: 0.9128 - val_loss: 1.0732 - val_acc: 0.6509\n",
      "Epoch 179/500\n",
      "4/4 [==============================] - 3s 627ms/step - loss: 0.2063 - acc: 0.9128 - val_loss: 1.0532 - val_acc: 0.6604\n",
      "Epoch 180/500\n",
      "4/4 [==============================] - 3s 627ms/step - loss: 0.1989 - acc: 0.9183 - val_loss: 1.0891 - val_acc: 0.6698\n",
      "Epoch 181/500\n",
      "4/4 [==============================] - 3s 706ms/step - loss: 0.2174 - acc: 0.9029 - val_loss: 1.0642 - val_acc: 0.7075\n",
      "Epoch 182/500\n",
      "4/4 [==============================] - 3s 651ms/step - loss: 0.2027 - acc: 0.9124 - val_loss: 1.0089 - val_acc: 0.6887\n"
     ]
    }
   ],
   "source": [
    "callback = tf.keras.callbacks.EarlyStopping(monitor='loss', patience=5)\n",
    "h=model.fit(x_train, y_train, batch_size=512, epochs=epoch, validation_split=0.05, callbacks=[callback])"
   ]
  },
  {
   "cell_type": "code",
   "execution_count": 128,
   "id": "f696681d",
   "metadata": {},
   "outputs": [
    {
     "data": {
      "image/png": "[encoded data removed]",
      "text/plain": [
       "<Figure size 432x288 with 1 Axes>"
      ]
     },
     "metadata": {
      "needs_background": "light"
     },
     "output_type": "display_data"
    }
   ],
   "source": [
    "h = pd.DataFrame(h.history)\n",
    "epochs = np.arange(0, len(h[\"loss\"]))\n",
    "plt.plot(epochs, h[\"loss\"], label=\"train_loss\")\n",
    "plt.plot(epochs, h[\"val_loss\"], label=\"val_loss\")\n",
    "plt.title(\"Loss Plot\")\n",
    "plt.xlabel(\"Epoch #\")\n",
    "plt.ylabel(\"Loss\")\n",
    "plt.legend()\n",
    "#plt.savefig(\"Loss.png\")\n",
    "plt.show()"
   ]
  },
  {
   "cell_type": "code",
   "execution_count": 114,
   "id": "825353c9",
   "metadata": {
    "scrolled": true
   },
   "outputs": [
    {
     "name": "stdout",
     "output_type": "stream",
     "text": [
      "WARNING:tensorflow:Model was constructed with shape (None, 50, 16) for input Tensor(\"lstm_12_input:0\", shape=(None, 50, 16), dtype=float32), but it was called on an input with incompatible shape (None, 30, 16).\n",
      "混同行列[[107  59]\n",
      " [ 46  25]]\n",
      "正解率は0.5569620253164557 適合率は0.6993464052287581 再現率は0.6445783132530121 F値は0.670846394984326\n"
     ]
    }
   ],
   "source": [
    "mm.evalution(x_test,y_test,model)"
   ]
  },
  {
   "cell_type": "code",
   "execution_count": 116,
   "id": "c08a72c4",
   "metadata": {},
   "outputs": [
    {
     "name": "stdout",
     "output_type": "stream",
     "text": [
      "30.0\n"
     ]
    }
   ],
   "source": [
    "x_test_close=data_close[(len(data_close)-len(x_test))-1:-1]\n",
    "value = mm.baibai(x_test,model,x_test_close)\n",
    "print(value)"
   ]
  },
  {
   "cell_type": "code",
   "execution_count": 49,
   "id": "539f6f4a",
   "metadata": {},
   "outputs": [
    {
     "name": "stdout",
     "output_type": "stream",
     "text": [
      "WARNING:tensorflow:From C:\\Users\\track\\anaconda3\\envs\\tf_cpu\\lib\\site-packages\\tensorflow\\python\\training\\tracking\\tracking.py:111: Model.state_updates (from tensorflow.python.keras.engine.training) is deprecated and will be removed in a future version.\n",
      "Instructions for updating:\n",
      "This property should not be used in TensorFlow 2.0, as updates are applied automatically.\n",
      "WARNING:tensorflow:From C:\\Users\\track\\anaconda3\\envs\\tf_cpu\\lib\\site-packages\\tensorflow\\python\\training\\tracking\\tracking.py:111: Layer.updates (from tensorflow.python.keras.engine.base_layer) is deprecated and will be removed in a future version.\n",
      "Instructions for updating:\n",
      "This property should not be used in TensorFlow 2.0, as updates are applied automatically.\n",
      "INFO:tensorflow:Assets written to: my_model2\\assets\n"
     ]
    }
   ],
   "source": [
    "model.save(\"my_model2\")\n",
    "#reconstructed_model = tf.keras.models.load_model(\"my_model\")\n",
    "#mm.draw_tran_result(reconstructed_model, x_test, y_test)"
   ]
  },
  {
   "cell_type": "code",
   "execution_count": 60,
   "id": "101877b5",
   "metadata": {
    "scrolled": true
   },
   "outputs": [
    {
     "name": "stderr",
     "output_type": "stream",
     "text": [
      "[Parallel(n_jobs=1)]: Using backend SequentialBackend with 1 concurrent workers.\n",
      "[Parallel(n_jobs=1)]: Done   1 out of   1 | elapsed:    0.8s remaining:    0.0s\n",
      "[Parallel(n_jobs=1)]: Done  25 out of  25 | elapsed:   19.5s finished\n",
      "\n",
      "[2022-06-17 13:56:05] Features: 1/10 -- score: 0.6666666666666666[Parallel(n_jobs=1)]: Using backend SequentialBackend with 1 concurrent workers.\n",
      "[Parallel(n_jobs=1)]: Done   1 out of   1 | elapsed:    0.7s remaining:    0.0s\n",
      "[Parallel(n_jobs=1)]: Done  24 out of  24 | elapsed:   17.7s finished\n",
      "\n",
      "[2022-06-17 13:56:23] Features: 2/10 -- score: 0.6666666666666666[Parallel(n_jobs=1)]: Using backend SequentialBackend with 1 concurrent workers.\n",
      "[Parallel(n_jobs=1)]: Done   1 out of   1 | elapsed:    0.6s remaining:    0.0s\n",
      "[Parallel(n_jobs=1)]: Done  23 out of  23 | elapsed:   17.1s finished\n",
      "\n",
      "[2022-06-17 13:56:40] Features: 3/10 -- score: 0.6602150537634408[Parallel(n_jobs=1)]: Using backend SequentialBackend with 1 concurrent workers.\n",
      "[Parallel(n_jobs=1)]: Done   1 out of   1 | elapsed:    0.8s remaining:    0.0s\n",
      "[Parallel(n_jobs=1)]: Done  22 out of  22 | elapsed:   17.4s finished\n",
      "\n",
      "[2022-06-17 13:56:57] Features: 4/10 -- score: 0.6580645161290322[Parallel(n_jobs=1)]: Using backend SequentialBackend with 1 concurrent workers.\n",
      "[Parallel(n_jobs=1)]: Done   1 out of   1 | elapsed:    0.7s remaining:    0.0s\n",
      "[Parallel(n_jobs=1)]: Done  21 out of  21 | elapsed:   15.8s finished\n",
      "\n",
      "[2022-06-17 13:57:13] Features: 5/10 -- score: 0.6365591397849462[Parallel(n_jobs=1)]: Using backend SequentialBackend with 1 concurrent workers.\n",
      "[Parallel(n_jobs=1)]: Done   1 out of   1 | elapsed:    0.7s remaining:    0.0s\n",
      "[Parallel(n_jobs=1)]: Done  20 out of  20 | elapsed:   15.3s finished\n",
      "\n",
      "[2022-06-17 13:57:29] Features: 6/10 -- score: 0.6086021505376344[Parallel(n_jobs=1)]: Using backend SequentialBackend with 1 concurrent workers.\n",
      "[Parallel(n_jobs=1)]: Done   1 out of   1 | elapsed:    0.7s remaining:    0.0s\n",
      "[Parallel(n_jobs=1)]: Done  19 out of  19 | elapsed:   15.2s finished\n",
      "\n",
      "[2022-06-17 13:57:44] Features: 7/10 -- score: 0.6473118279569892[Parallel(n_jobs=1)]: Using backend SequentialBackend with 1 concurrent workers.\n",
      "[Parallel(n_jobs=1)]: Done   1 out of   1 | elapsed:    0.7s remaining:    0.0s\n",
      "[Parallel(n_jobs=1)]: Done  18 out of  18 | elapsed:   14.1s finished\n",
      "\n",
      "[2022-06-17 13:57:58] Features: 8/10 -- score: 0.643010752688172[Parallel(n_jobs=1)]: Using backend SequentialBackend with 1 concurrent workers.\n",
      "[Parallel(n_jobs=1)]: Done   1 out of   1 | elapsed:    0.7s remaining:    0.0s\n",
      "[Parallel(n_jobs=1)]: Done  17 out of  17 | elapsed:   13.8s finished\n",
      "\n",
      "[2022-06-17 13:58:12] Features: 9/10 -- score: 0.6258064516129032[Parallel(n_jobs=1)]: Using backend SequentialBackend with 1 concurrent workers.\n",
      "[Parallel(n_jobs=1)]: Done   1 out of   1 | elapsed:    0.7s remaining:    0.0s\n",
      "[Parallel(n_jobs=1)]: Done  16 out of  16 | elapsed:   13.1s finished\n",
      "\n",
      "[2022-06-17 13:58:25] Features: 10/10 -- score: 0.6258064516129032"
     ]
    }
   ],
   "source": [
    "x_train_sfs=data.iloc[:,:-1]\n",
    "y_train_sfs=data.iloc[:,-1]\n",
    "\n",
    "sfs1 = SFS(RandomForestClassifier(), # 使う学習器\n",
    "           k_features=10, #特徴をいくつまで選択するか\n",
    "           forward=True, #Trueでforward selectionになる。Falseでback\n",
    "           floating=False, #後に説明するが、forward selectionの亜種を行うためのもの。\n",
    "           verbose=2, #実行時のlogをどれだけ詳しく表示するか\n",
    "           scoring='accuracy', # 評価指標\n",
    "           cv=5) #クロスバリデーション\n",
    "#ちなみにクロスバリデーションをしない(cv=0)とすると、最終的に選ばれる特徴が変わります。\n",
    "\n",
    "sfs1 = sfs1.fit(x_train_sfs,y_train_sfs)\n",
    "\n",
    "selected_feat = x_train_sfs.columns[list(sfs1.k_feature_idx_)]\n"
   ]
  },
  {
   "cell_type": "code",
   "execution_count": 61,
   "id": "7e747c2c",
   "metadata": {
    "scrolled": true
   },
   "outputs": [
    {
     "data": {
      "text/plain": [
       "{1: {'feature_idx': (24,),\n",
       "  'cv_scores': array([0.67741935, 0.6344086 , 0.67741935, 0.67741935, 0.66666667]),\n",
       "  'avg_score': 0.6666666666666666,\n",
       "  'feature_names': ('MACDクロス',)},\n",
       " 2: {'feature_idx': (20, 24),\n",
       "  'cv_scores': array([0.67741935, 0.6344086 , 0.67741935, 0.67741935, 0.66666667]),\n",
       "  'avg_score': 0.6666666666666666,\n",
       "  'feature_names': ('25-75クロス', 'MACDクロス')},\n",
       " 3: {'feature_idx': (20, 21, 24),\n",
       "  'cv_scores': array([0.67741935, 0.60215054, 0.67741935, 0.67741935, 0.66666667]),\n",
       "  'avg_score': 0.6602150537634408,\n",
       "  'feature_names': ('25-75クロス', 'ボリンジャーバンドボーダー', 'MACDクロス')},\n",
       " 4: {'feature_idx': (19, 20, 21, 24),\n",
       "  'cv_scores': array([0.67741935, 0.60215054, 0.66666667, 0.67741935, 0.66666667]),\n",
       "  'avg_score': 0.6580645161290322,\n",
       "  'feature_names': ('5-25クロス', '25-75クロス', 'ボリンジャーバンドボーダー', 'MACDクロス')},\n",
       " 5: {'feature_idx': (17, 19, 20, 21, 24),\n",
       "  'cv_scores': array([0.66666667, 0.60215054, 0.64516129, 0.6344086 , 0.6344086 ]),\n",
       "  'avg_score': 0.6365591397849462,\n",
       "  'feature_names': ('終値対数階差変換',\n",
       "   '5-25クロス',\n",
       "   '25-75クロス',\n",
       "   'ボリンジャーバンドボーダー',\n",
       "   'MACDクロス')},\n",
       " 6: {'feature_idx': (4, 17, 19, 20, 21, 24),\n",
       "  'cv_scores': array([0.69892473, 0.56989247, 0.66666667, 0.48387097, 0.62365591]),\n",
       "  'avg_score': 0.6086021505376344,\n",
       "  'feature_names': ('volume',\n",
       "   '終値対数階差変換',\n",
       "   '5-25クロス',\n",
       "   '25-75クロス',\n",
       "   'ボリンジャーバンドボーダー',\n",
       "   'MACDクロス')},\n",
       " 7: {'feature_idx': (4, 16, 17, 19, 20, 21, 24),\n",
       "  'cv_scores': array([0.67741935, 0.62365591, 0.6344086 , 0.64516129, 0.65591398]),\n",
       "  'avg_score': 0.6473118279569892,\n",
       "  'feature_names': ('volume',\n",
       "   'シグナルMACD',\n",
       "   '終値対数階差変換',\n",
       "   '5-25クロス',\n",
       "   '25-75クロス',\n",
       "   'ボリンジャーバンドボーダー',\n",
       "   'MACDクロス')},\n",
       " 8: {'feature_idx': (2, 4, 16, 17, 19, 20, 21, 24),\n",
       "  'cv_scores': array([0.70967742, 0.62365591, 0.61290323, 0.64516129, 0.62365591]),\n",
       "  'avg_score': 0.643010752688172,\n",
       "  'feature_names': ('low',\n",
       "   'volume',\n",
       "   'シグナルMACD',\n",
       "   '終値対数階差変換',\n",
       "   '5-25クロス',\n",
       "   '25-75クロス',\n",
       "   'ボリンジャーバンドボーダー',\n",
       "   'MACDクロス')},\n",
       " 9: {'feature_idx': (2, 4, 15, 16, 17, 19, 20, 21, 24),\n",
       "  'cv_scores': array([0.66666667, 0.64516129, 0.51612903, 0.59139785, 0.70967742]),\n",
       "  'avg_score': 0.6258064516129032,\n",
       "  'feature_names': ('low',\n",
       "   'volume',\n",
       "   'MACD',\n",
       "   'シグナルMACD',\n",
       "   '終値対数階差変換',\n",
       "   '5-25クロス',\n",
       "   '25-75クロス',\n",
       "   'ボリンジャーバンドボーダー',\n",
       "   'MACDクロス')},\n",
       " 10: {'feature_idx': (2, 4, 10, 15, 16, 17, 19, 20, 21, 24),\n",
       "  'cv_scores': array([0.67741935, 0.62365591, 0.55913978, 0.6344086 , 0.6344086 ]),\n",
       "  'avg_score': 0.6258064516129032,\n",
       "  'feature_names': ('low',\n",
       "   'volume',\n",
       "   '5平均-25平均',\n",
       "   'MACD',\n",
       "   'シグナルMACD',\n",
       "   '終値対数階差変換',\n",
       "   '5-25クロス',\n",
       "   '25-75クロス',\n",
       "   'ボリンジャーバンドボーダー',\n",
       "   'MACDクロス')}}"
      ]
     },
     "execution_count": 61,
     "metadata": {},
     "output_type": "execute_result"
    }
   ],
   "source": [
    "sfs1.subsets_"
   ]
  }
 ],
 "metadata": {
  "kernelspec": {
   "display_name": "Python 3 (ipykernel)",
   "language": "python",
   "name": "python3"
  },
  "language_info": {
   "codemirror_mode": {
    "name": "ipython",
    "version": 3
   },
   "file_extension": ".py",
   "mimetype": "text/x-python",
   "name": "python",
   "nbconvert_exporter": "python",
   "pygments_lexer": "ipython3",
   "version": "3.8.13"
  }
 },
 "nbformat": 4,
 "nbformat_minor": 5
}
