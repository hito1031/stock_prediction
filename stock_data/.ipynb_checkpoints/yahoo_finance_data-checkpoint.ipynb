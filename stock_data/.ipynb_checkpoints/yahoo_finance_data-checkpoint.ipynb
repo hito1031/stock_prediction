{
 "cells": [
  {
   "cell_type": "code",
   "execution_count": 22,
   "id": "678bbba2",
   "metadata": {},
   "outputs": [],
   "source": [
    "from yahoo_finance_api2 import share\n",
    "from yahoo_finance_api2.exceptions import YahooFinanceError\n",
    "import pandas as pd\n",
    "import datetime\n",
    "import os"
   ]
  },
  {
   "cell_type": "code",
   "execution_count": 20,
   "id": "2a3d1b48",
   "metadata": {},
   "outputs": [],
   "source": [
    "def get_data(data_dict):\n",
    "    now = datetime.datetime.now()\n",
    "    now = now.strftime(\"%y%m%d\")\n",
    "    num = len(data_dict)\n",
    "\n",
    "    legend_list = []\n",
    "    i = 0\n",
    "    for mykey, company_name in data_dict.items():\n",
    "        company_code = str(mykey) + '.T'\n",
    "        my_share = share.Share(company_code)\n",
    "        \n",
    "        try:\n",
    "            symbol_data = my_share.get_historical(share.PERIOD_TYPE_DAY, 10,\n",
    "                                                      share.FREQUENCY_TYPE_MINUTE, 5)\n",
    "\n",
    "            df = pd.DataFrame(symbol_data.values(), index=symbol_data.keys()).T\n",
    "            df.timestamp = pd.to_datetime(df.timestamp, unit='ms')\n",
    "            # 日本標準時間に変換\n",
    "            df.index = pd.DatetimeIndex(df.timestamp, name='timestamp').tz_localize('UTC').tz_convert('Asia/Tokyo')\n",
    "            # csvファイルに保存\n",
    "            df.to_csv(now + \"_\" + str(mykey) + \"_\" + company_name + \".csv\", index=False)\n",
    "\n",
    "        except YahooFinanceError as e:\n",
    "            print(e.message)\n",
    "            pass\n",
    "        i += 1"
   ]
  },
  {
   "cell_type": "code",
   "execution_count": 11,
   "id": "b5d00276",
   "metadata": {},
   "outputs": [
    {
     "data": {
      "text/plain": [
       "{'1301': '極洋',\n",
       " '1332': '日水',\n",
       " '1333': 'マルハニチロ',\n",
       " '1375': '雪国まいたけ',\n",
       " '1376': 'カネコ種',\n",
       " '1377': 'サカタのタネ',\n",
       " '1379': 'ホクト',\n",
       " '1380': '秋川牧園',\n",
       " '1381': 'アクシーズ',\n",
       " '1382': 'ホーブ',\n",
       " '1383': 'ベルグアース',\n",
       " '1384': 'ホクリヨウ'}"
      ]
     },
     "execution_count": 11,
     "metadata": {},
     "output_type": "execute_result"
    }
   ],
   "source": [
    "os.chdir('水産・農林')\n",
    "f = open(\"dict_水産・農林.txt\",  'r')\n",
    "data = f.read()\n",
    "data = data.split(\" \")\n",
    "del data[-1]\n",
    "dict_data={}\n",
    "for i in range(0,len(data),2):\n",
    "    dict_data[data[i]]=data[i+1]"
   ]
  },
  {
   "cell_type": "code",
   "execution_count": 24,
   "id": "10985e9c",
   "metadata": {},
   "outputs": [],
   "source": [
    "get_data(dict_data)"
   ]
  }
 ],
 "metadata": {
  "kernelspec": {
   "display_name": "Python 3 (ipykernel)",
   "language": "python",
   "name": "python3"
  },
  "language_info": {
   "codemirror_mode": {
    "name": "ipython",
    "version": 3
   },
   "file_extension": ".py",
   "mimetype": "text/x-python",
   "name": "python",
   "nbconvert_exporter": "python",
   "pygments_lexer": "ipython3",
   "version": "3.8.13"
  }
 },
 "nbformat": 4,
 "nbformat_minor": 5
}
