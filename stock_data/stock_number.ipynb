{
 "cells": [
  {
   "cell_type": "code",
   "execution_count": 1,
   "id": "c2a3efc3",
   "metadata": {},
   "outputs": [
    {
     "name": "stderr",
     "output_type": "stream",
     "text": [
      "C:\\Users\\track\\AppData\\Local\\Temp\\ipykernel_14976\\3894776813.py:7: DeprecationWarning: executable_path has been deprecated, please pass in a Service object\n",
      "  driver = webdriver.Chrome(r'C:\\Users\\track\\Dropbox\\My PC (DESKTOP-5UJBDRJ)\\Desktop\\Machine Learning\\株価予測\\chromedriver')\n"
     ]
    }
   ],
   "source": [
    "from selenium import webdriver\n",
    "from webdriver_manager.chrome import ChromeDriverManager\n",
    "import csv\n",
    "import time\n",
    "import os\n",
    "\n",
    "driver = webdriver.Chrome(r'C:\\Users\\track\\Dropbox\\My PC (DESKTOP-5UJBDRJ)\\Desktop\\Machine Learning\\株価予測\\chromedriver')"
   ]
  },
  {
   "cell_type": "code",
   "execution_count": 3,
   "id": "48451e4e",
   "metadata": {},
   "outputs": [],
   "source": [
    "def make_text(i):\n",
    "    driver.get(\"https://portal.morningstarjp.com/StockInfo/sec/list?market=0&kind=0000\")\n",
    "    title = driver.find_element_by_xpath(f\"//*[@id='rankingb2']/div[2]/div/p/a[{i}]\").text\n",
    "    driver.find_element_by_xpath(f\"//*[@id='rankingb2']/div[2]/div/p/a[{i}]\").click()\n",
    "    time.sleep(5)\n",
    "    text=[\"a\"]\n",
    "    for i in range(15):\n",
    "        class_elems =  driver.find_elements_by_class_name(\"tac\")\n",
    "        del class_elems[0]\n",
    "        if class_elems[-1].text==text[-1]:\n",
    "            break\n",
    "        for elem in class_elems:\n",
    "            text.append(elem.text)\n",
    "        driver.find_element_by_class_name('next').click()\n",
    "    del text[0]\n",
    "    os.chdir(r'C:\\Users\\track\\Dropbox\\My PC (DESKTOP-5UJBDRJ)\\Desktop\\Machine Learning\\株価予測\\stock_data')\n",
    "    os.mkdir(f'./{title}')\n",
    "    os.chdir(f'./{title}')\n",
    "    f = open(f\"dict_{title}.txt\", \"w\")\n",
    "    for t in text:\n",
    "        f.write(f'{t} ')\n",
    "    f.close()\n",
    "    return title"
   ]
  },
  {
   "cell_type": "code",
   "execution_count": 9,
   "id": "046c8521",
   "metadata": {
    "scrolled": true
   },
   "outputs": [
    {
     "name": "stderr",
     "output_type": "stream",
     "text": [
      "C:\\Users\\track\\AppData\\Local\\Temp\\ipykernel_14976\\358763118.py:3: DeprecationWarning: find_element_by_xpath is deprecated. Please use find_element(by=By.XPATH, value=xpath) instead\n",
      "  title = driver.find_element_by_xpath(f\"//*[@id='rankingb2']/div[2]/div/p/a[{i}]\").text\n",
      "C:\\Users\\track\\AppData\\Local\\Temp\\ipykernel_14976\\358763118.py:4: DeprecationWarning: find_element_by_xpath is deprecated. Please use find_element(by=By.XPATH, value=xpath) instead\n",
      "  driver.find_element_by_xpath(f\"//*[@id='rankingb2']/div[2]/div/p/a[{i}]\").click()\n",
      "C:\\Users\\track\\AppData\\Local\\Temp\\ipykernel_14976\\358763118.py:8: DeprecationWarning: find_elements_by_class_name is deprecated. Please use find_elements(by=By.CLASS_NAME, value=name) instead\n",
      "  class_elems =  driver.find_elements_by_class_name(\"tac\")\n",
      "C:\\Users\\track\\AppData\\Local\\Temp\\ipykernel_14976\\358763118.py:14: DeprecationWarning: find_element_by_class_name is deprecated. Please use find_element(by=By.CLASS_NAME, value=name) instead\n",
      "  driver.find_element_by_class_name('next').click()\n"
     ]
    }
   ],
   "source": [
    "titles=[]\n",
    "title = make_text(13)\n"
   ]
  }
 ],
 "metadata": {
  "kernelspec": {
   "display_name": "Python 3 (ipykernel)",
   "language": "python",
   "name": "python3"
  },
  "language_info": {
   "codemirror_mode": {
    "name": "ipython",
    "version": 3
   },
   "file_extension": ".py",
   "mimetype": "text/x-python",
   "name": "python",
   "nbconvert_exporter": "python",
   "pygments_lexer": "ipython3",
   "version": "3.8.13"
  }
 },
 "nbformat": 4,
 "nbformat_minor": 5
}
