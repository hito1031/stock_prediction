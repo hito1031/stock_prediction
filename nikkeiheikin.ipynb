{
 "cells": [
  {
   "cell_type": "code",
   "execution_count": 18,
   "id": "911aacb4",
   "metadata": {
    "scrolled": true
   },
   "outputs": [],
   "source": [
    "import numpy as np\n",
    "import pandas as pd\n",
    "import matplotlib.pyplot as plt\n",
    "import tensorflow as tf\n",
    "from tensorflow.keras.layers import Dense, Activation, Dropout, LSTM\n",
    "from tensorflow.keras.models import Sequential\n",
    "import importlib\n",
    "import make_data as md\n",
    "importlib.reload(md)\n",
    "import make_model as mm\n",
    "importlib.reload(mm)\n",
    "import optuna\n",
    "from sklearn import metrics\n",
    "from sklearn.metrics import roc_auc_score\n",
    "from mlxtend.feature_selection import SequentialFeatureSelector as SFS\n",
    "from sklearn.ensemble import RandomForestRegressor, RandomForestClassifier\n",
    "from sklearn.svm import SVC\n",
    "from datetime import datetime as dt\n",
    "from datetime import timedelta"
   ]
  },
  {
   "cell_type": "code",
   "execution_count": 19,
   "id": "3191c9fa",
   "metadata": {},
   "outputs": [],
   "source": [
    "data, data_np = md.load_data(\"日経平均00-22日足.csv\")"
   ]
  },
  {
   "cell_type": "code",
   "execution_count": 20,
   "id": "bf1f0a86",
   "metadata": {},
   "outputs": [],
   "source": [
    "data[\"アッパーエンベロープー終値\"] = md.upper_envelope(3, 5, 1, data_np)\n",
    "data[\"ロワーエンベロープー終値\"] = md.lower_envelope(3, 5, 1, data_np)\n",
    "data[\"5日平均-25日平均\"] = md.average_line_difference(data[\"5日平均\"], data[\"25日平均\"])\n",
    "data[\"25日平均-75日平均\"] = md.average_line_difference(data[\"25日平均\"], data[\"75日平均\"])\n",
    "data_5_25 = md.cross(data[\"5日平均-25日平均\"])\n",
    "data_25_75 = md.cross(data[\"25日平均-75日平均\"])\n",
    "upper_bband, lower_bband = md.bband(data)\n",
    "data[\"アッパーボリンジャーバンド\"] = upper_bband\n",
    "data[\"ロワーボリンジャーバンド\"] = lower_bband\n",
    "data[\"ボリンジャーバンド差\"] = md.average_line_difference(data[\"アッパーボリンジャーバンド\"] ,data[\"ロワーボリンジャーバンド\"])\n",
    "data_bband_border = md.bband_border(data[\"アッパーボリンジャーバンド\"], data[\"ロワーボリンジャーバンド\"], data[\"高値\"], data[\"安値\"])\n",
    "data[\"MACD\"] =  [x - y for (x, y) in zip(md.ema(data[\"終値\"], 9), md.ema(data[\"終値\"], 26))]\n",
    "data[\"シグナルMACD\"] = md.average_line(data[\"MACD\"],9)\n",
    "data_macdcross = md.cross(md.average_line_difference(data[\"MACD\"], data[\"シグナルMACD\"]))\n",
    "data_up_or_down = md.up_or_down(data[\"終値\"])\n",
    "data_close=data[\"終値\"]"
   ]
  },
  {
   "cell_type": "code",
   "execution_count": 21,
   "id": "7c7ce5b4",
   "metadata": {},
   "outputs": [],
   "source": [
    "data = md.standardization(data)"
   ]
  },
  {
   "cell_type": "code",
   "execution_count": 22,
   "id": "1096981a",
   "metadata": {},
   "outputs": [],
   "source": [
    "data_days, data_weeks = md.data_from_year(data.index)\n",
    "#data[\"年始からの日\"] = data_days\n",
    "#data[\"年始からの週\"] = data_weeks\n",
    "data['5-25クロス'] = data_5_25\n",
    "data['25-75クロス'] = data_25_75\n",
    "data[\"ボリンジャーバンドボーダー\"] = data_bband_border\n",
    "data[\"rsi9\"] = md.rsi(data[\"終値\"],9)\n",
    "data[\"rsi14\"] = md.rsi(data[\"終値\"],14)\n",
    "data[\"MACDクロス\"] = data_macdcross"
   ]
  },
  {
   "cell_type": "code",
   "execution_count": 23,
   "id": "17dc0d6b",
   "metadata": {},
   "outputs": [],
   "source": [
    "data = data.drop([\"高値\",\"安値\",\"5日平均.1\",\"25日平均.1\", '5日平均', '25日平均', '75日平均','アッパーボリンジャーバンド', 'ロワーボリンジャーバンド'], axis=1)"
   ]
  },
  {
   "cell_type": "code",
   "execution_count": 24,
   "id": "4475e4bf",
   "metadata": {},
   "outputs": [],
   "source": [
    "data[\"騰落\"]=data_up_or_down\n",
    "data = data.dropna()\n",
    "data_np = data.to_numpy()"
   ]
  },
  {
   "cell_type": "code",
   "execution_count": 26,
   "id": "410beb26",
   "metadata": {},
   "outputs": [],
   "source": [
    "seq_len = 30\n",
    "epoch = 500\n",
    "x_train, y_train, x_test, y_test= mm.data_split(data_np,seq_len=seq_len, y=-1)\n",
    "model = mm.build_model([data.shape[1],50,100,1])"
   ]
  },
  {
   "cell_type": "code",
   "execution_count": 27,
   "id": "456583d0",
   "metadata": {
    "scrolled": true
   },
   "outputs": [
    {
     "name": "stdout",
     "output_type": "stream",
     "text": [
      "Epoch 1/500\n",
      "WARNING:tensorflow:Model was constructed with shape (None, 50, 17) for input Tensor(\"lstm_2_input:0\", shape=(None, 50, 17), dtype=float32), but it was called on an input with incompatible shape (None, 30, 17).\n",
      "WARNING:tensorflow:Model was constructed with shape (None, 50, 17) for input Tensor(\"lstm_2_input:0\", shape=(None, 50, 17), dtype=float32), but it was called on an input with incompatible shape (None, 30, 17).\n",
      "8/8 [==============================] - ETA: 0s - loss: 0.3400 - mae: 0.5197 - acc: 0.4865WARNING:tensorflow:Model was constructed with shape (None, 50, 17) for input Tensor(\"lstm_2_input:0\", shape=(None, 50, 17), dtype=float32), but it was called on an input with incompatible shape (None, 30, 17).\n",
      "8/8 [==============================] - 5s 645ms/step - loss: 0.3400 - mae: 0.5197 - acc: 0.4865 - val_loss: 0.2650 - val_mae: 0.4946 - val_acc: 0.5070\n",
      "Epoch 2/500\n",
      "8/8 [==============================] - 3s 429ms/step - loss: 0.2711 - mae: 0.5040 - acc: 0.4824 - val_loss: 0.2584 - val_mae: 0.4996 - val_acc: 0.4605\n",
      "Epoch 3/500\n",
      "8/8 [==============================] - 3s 429ms/step - loss: 0.2622 - mae: 0.5003 - acc: 0.4939 - val_loss: 0.2522 - val_mae: 0.4960 - val_acc: 0.5442\n",
      "Epoch 4/500\n",
      "8/8 [==============================] - 3s 422ms/step - loss: 0.2557 - mae: 0.4962 - acc: 0.5172 - val_loss: 0.2529 - val_mae: 0.5008 - val_acc: 0.5163\n",
      "Epoch 5/500\n",
      "8/8 [==============================] - 3s 420ms/step - loss: 0.2539 - mae: 0.4965 - acc: 0.5157 - val_loss: 0.2490 - val_mae: 0.4940 - val_acc: 0.5488\n",
      "Epoch 6/500\n",
      "8/8 [==============================] - 3s 424ms/step - loss: 0.2522 - mae: 0.4940 - acc: 0.5181 - val_loss: 0.2480 - val_mae: 0.4954 - val_acc: 0.5349\n",
      "Epoch 7/500\n",
      "8/8 [==============================] - 4s 445ms/step - loss: 0.2494 - mae: 0.4913 - acc: 0.5412 - val_loss: 0.2469 - val_mae: 0.4944 - val_acc: 0.5256\n",
      "Epoch 8/500\n",
      "8/8 [==============================] - 4s 453ms/step - loss: 0.2475 - mae: 0.4909 - acc: 0.5483 - val_loss: 0.2440 - val_mae: 0.4898 - val_acc: 0.5721\n",
      "Epoch 9/500\n",
      "8/8 [==============================] - 3s 402ms/step - loss: 0.2482 - mae: 0.4912 - acc: 0.5404 - val_loss: 0.2427 - val_mae: 0.4897 - val_acc: 0.5488\n",
      "Epoch 10/500\n",
      "8/8 [==============================] - 3s 435ms/step - loss: 0.2465 - mae: 0.4891 - acc: 0.5495 - val_loss: 0.2434 - val_mae: 0.4902 - val_acc: 0.6093\n",
      "Epoch 11/500\n",
      "8/8 [==============================] - 3s 419ms/step - loss: 0.2454 - mae: 0.4878 - acc: 0.5581 - val_loss: 0.2428 - val_mae: 0.4895 - val_acc: 0.6000\n",
      "Epoch 12/500\n",
      "8/8 [==============================] - 3s 419ms/step - loss: 0.2443 - mae: 0.4858 - acc: 0.5657 - val_loss: 0.2387 - val_mae: 0.4839 - val_acc: 0.6047\n",
      "Epoch 13/500\n",
      "8/8 [==============================] - 3s 417ms/step - loss: 0.2428 - mae: 0.4836 - acc: 0.5696 - val_loss: 0.2380 - val_mae: 0.4838 - val_acc: 0.6372\n",
      "Epoch 14/500\n",
      "8/8 [==============================] - 3s 404ms/step - loss: 0.2388 - mae: 0.4784 - acc: 0.5882 - val_loss: 0.2349 - val_mae: 0.4766 - val_acc: 0.6186\n",
      "Epoch 15/500\n",
      "8/8 [==============================] - 3s 398ms/step - loss: 0.2364 - mae: 0.4753 - acc: 0.5953 - val_loss: 0.2307 - val_mae: 0.4714 - val_acc: 0.6558\n",
      "Epoch 16/500\n",
      "8/8 [==============================] - 3s 404ms/step - loss: 0.2366 - mae: 0.4734 - acc: 0.5917 - val_loss: 0.2313 - val_mae: 0.4666 - val_acc: 0.6279\n",
      "Epoch 17/500\n",
      "8/8 [==============================] - 3s 394ms/step - loss: 0.2373 - mae: 0.4704 - acc: 0.5912 - val_loss: 0.2293 - val_mae: 0.4649 - val_acc: 0.6372\n",
      "Epoch 18/500\n",
      "8/8 [==============================] - 3s 404ms/step - loss: 0.2322 - mae: 0.4654 - acc: 0.6039 - val_loss: 0.2267 - val_mae: 0.4657 - val_acc: 0.6279\n",
      "Epoch 19/500\n",
      "8/8 [==============================] - 3s 400ms/step - loss: 0.2269 - mae: 0.4574 - acc: 0.6373 - val_loss: 0.2264 - val_mae: 0.4606 - val_acc: 0.6372\n",
      "Epoch 20/500\n",
      "8/8 [==============================] - 3s 400ms/step - loss: 0.2265 - mae: 0.4564 - acc: 0.6267 - val_loss: 0.2209 - val_mae: 0.4494 - val_acc: 0.6279\n",
      "Epoch 21/500\n",
      "8/8 [==============================] - 3s 397ms/step - loss: 0.2244 - mae: 0.4505 - acc: 0.6434 - val_loss: 0.2196 - val_mae: 0.4478 - val_acc: 0.6512\n",
      "Epoch 22/500\n",
      "8/8 [==============================] - 3s 396ms/step - loss: 0.2227 - mae: 0.4445 - acc: 0.6390 - val_loss: 0.2220 - val_mae: 0.4479 - val_acc: 0.6465\n",
      "Epoch 23/500\n",
      "8/8 [==============================] - 3s 425ms/step - loss: 0.2200 - mae: 0.4402 - acc: 0.6461 - val_loss: 0.2157 - val_mae: 0.4395 - val_acc: 0.6372\n",
      "Epoch 24/500\n",
      "8/8 [==============================] - 3s 413ms/step - loss: 0.2163 - mae: 0.4357 - acc: 0.6554 - val_loss: 0.2184 - val_mae: 0.4412 - val_acc: 0.6186\n",
      "Epoch 25/500\n",
      "8/8 [==============================] - 4s 466ms/step - loss: 0.2147 - mae: 0.4338 - acc: 0.6650 - val_loss: 0.2131 - val_mae: 0.4337 - val_acc: 0.6419\n",
      "Epoch 26/500\n",
      "8/8 [==============================] - 3s 420ms/step - loss: 0.2121 - mae: 0.4281 - acc: 0.6694 - val_loss: 0.2093 - val_mae: 0.4262 - val_acc: 0.6512\n",
      "Epoch 27/500\n",
      "8/8 [==============================] - 3s 410ms/step - loss: 0.2121 - mae: 0.4248 - acc: 0.6718 - val_loss: 0.2059 - val_mae: 0.4233 - val_acc: 0.6698\n",
      "Epoch 28/500\n",
      "8/8 [==============================] - 3s 421ms/step - loss: 0.2056 - mae: 0.4173 - acc: 0.6784 - val_loss: 0.2059 - val_mae: 0.4205 - val_acc: 0.6884\n",
      "Epoch 29/500\n",
      "8/8 [==============================] - 3s 421ms/step - loss: 0.2028 - mae: 0.4105 - acc: 0.6900 - val_loss: 0.2027 - val_mae: 0.4136 - val_acc: 0.6837\n",
      "Epoch 30/500\n",
      "8/8 [==============================] - 3s 421ms/step - loss: 0.2001 - mae: 0.4062 - acc: 0.6912 - val_loss: 0.1972 - val_mae: 0.4041 - val_acc: 0.7070\n",
      "Epoch 31/500\n",
      "8/8 [==============================] - 3s 423ms/step - loss: 0.1992 - mae: 0.4007 - acc: 0.6949 - val_loss: 0.1968 - val_mae: 0.4033 - val_acc: 0.7116\n",
      "Epoch 32/500\n",
      "8/8 [==============================] - 3s 419ms/step - loss: 0.1942 - mae: 0.3939 - acc: 0.7091 - val_loss: 0.1998 - val_mae: 0.4023 - val_acc: 0.6930\n",
      "Epoch 33/500\n",
      "8/8 [==============================] - 3s 408ms/step - loss: 0.1936 - mae: 0.3901 - acc: 0.7032 - val_loss: 0.2015 - val_mae: 0.4022 - val_acc: 0.7023\n",
      "Epoch 34/500\n",
      "8/8 [==============================] - 3s 405ms/step - loss: 0.1913 - mae: 0.3894 - acc: 0.7071 - val_loss: 0.1949 - val_mae: 0.3949 - val_acc: 0.7070\n",
      "Epoch 35/500\n",
      "8/8 [==============================] - 3s 404ms/step - loss: 0.1862 - mae: 0.3822 - acc: 0.7230 - val_loss: 0.1909 - val_mae: 0.3874 - val_acc: 0.7349\n",
      "Epoch 36/500\n",
      "8/8 [==============================] - 3s 402ms/step - loss: 0.1854 - mae: 0.3786 - acc: 0.7162 - val_loss: 0.1893 - val_mae: 0.3822 - val_acc: 0.7209\n",
      "Epoch 37/500\n",
      "8/8 [==============================] - 3s 398ms/step - loss: 0.1853 - mae: 0.3772 - acc: 0.7225 - val_loss: 0.1875 - val_mae: 0.3797 - val_acc: 0.7163\n",
      "Epoch 38/500\n",
      "8/8 [==============================] - 3s 406ms/step - loss: 0.1839 - mae: 0.3772 - acc: 0.7238 - val_loss: 0.1906 - val_mae: 0.3798 - val_acc: 0.7163\n",
      "Epoch 39/500\n",
      "8/8 [==============================] - 3s 414ms/step - loss: 0.1855 - mae: 0.3791 - acc: 0.7196 - val_loss: 0.1864 - val_mae: 0.3803 - val_acc: 0.7302\n",
      "Epoch 40/500\n",
      "8/8 [==============================] - 4s 484ms/step - loss: 0.1822 - mae: 0.3763 - acc: 0.7262 - val_loss: 0.1866 - val_mae: 0.3773 - val_acc: 0.7302\n",
      "Epoch 41/500\n",
      "8/8 [==============================] - 4s 473ms/step - loss: 0.1816 - mae: 0.3739 - acc: 0.7201 - val_loss: 0.1851 - val_mae: 0.3734 - val_acc: 0.7349\n",
      "Epoch 42/500\n",
      "8/8 [==============================] - 4s 508ms/step - loss: 0.1810 - mae: 0.3732 - acc: 0.7279 - val_loss: 0.1880 - val_mae: 0.3774 - val_acc: 0.7488\n",
      "Epoch 43/500\n",
      "8/8 [==============================] - 4s 481ms/step - loss: 0.1816 - mae: 0.3707 - acc: 0.7235 - val_loss: 0.1861 - val_mae: 0.3745 - val_acc: 0.7209\n",
      "Epoch 44/500\n",
      "8/8 [==============================] - 4s 456ms/step - loss: 0.1794 - mae: 0.3689 - acc: 0.7328 - val_loss: 0.1869 - val_mae: 0.3764 - val_acc: 0.7535\n",
      "Epoch 45/500\n",
      "8/8 [==============================] - 4s 455ms/step - loss: 0.1824 - mae: 0.3727 - acc: 0.7267 - val_loss: 0.1903 - val_mae: 0.3796 - val_acc: 0.7302\n",
      "Epoch 46/500\n",
      "8/8 [==============================] - 4s 474ms/step - loss: 0.1794 - mae: 0.3714 - acc: 0.7272 - val_loss: 0.1804 - val_mae: 0.3692 - val_acc: 0.7442\n"
     ]
    },
    {
     "name": "stdout",
     "output_type": "stream",
     "text": [
      "Epoch 47/500\n",
      "8/8 [==============================] - 3s 436ms/step - loss: 0.1779 - mae: 0.3691 - acc: 0.7277 - val_loss: 0.1821 - val_mae: 0.3664 - val_acc: 0.7395\n",
      "Epoch 48/500\n",
      "8/8 [==============================] - 4s 447ms/step - loss: 0.1767 - mae: 0.3646 - acc: 0.7358 - val_loss: 0.1810 - val_mae: 0.3652 - val_acc: 0.7442\n",
      "Epoch 49/500\n",
      "8/8 [==============================] - 3s 432ms/step - loss: 0.1767 - mae: 0.3654 - acc: 0.7338 - val_loss: 0.1818 - val_mae: 0.3651 - val_acc: 0.7488\n",
      "Epoch 50/500\n",
      "8/8 [==============================] - 4s 456ms/step - loss: 0.1766 - mae: 0.3631 - acc: 0.7365 - val_loss: 0.1820 - val_mae: 0.3656 - val_acc: 0.7395\n",
      "Epoch 51/500\n",
      "8/8 [==============================] - 4s 484ms/step - loss: 0.1799 - mae: 0.3657 - acc: 0.7301 - val_loss: 0.1846 - val_mae: 0.3678 - val_acc: 0.7256\n",
      "Epoch 52/500\n",
      "8/8 [==============================] - 4s 459ms/step - loss: 0.1733 - mae: 0.3622 - acc: 0.7456 - val_loss: 0.1817 - val_mae: 0.3716 - val_acc: 0.7535\n",
      "Epoch 53/500\n",
      "8/8 [==============================] - 4s 494ms/step - loss: 0.1768 - mae: 0.3663 - acc: 0.7426 - val_loss: 0.1832 - val_mae: 0.3695 - val_acc: 0.7674\n",
      "Epoch 54/500\n",
      "8/8 [==============================] - 4s 464ms/step - loss: 0.1746 - mae: 0.3619 - acc: 0.7392 - val_loss: 0.1834 - val_mae: 0.3706 - val_acc: 0.7349\n",
      "Epoch 55/500\n",
      "8/8 [==============================] - 4s 462ms/step - loss: 0.1743 - mae: 0.3601 - acc: 0.7439 - val_loss: 0.1808 - val_mae: 0.3670 - val_acc: 0.7581\n"
     ]
    },
    {
     "data": {
      "text/plain": [
       "<tensorflow.python.keras.callbacks.History at 0x20110669ee0>"
      ]
     },
     "execution_count": 27,
     "metadata": {},
     "output_type": "execute_result"
    }
   ],
   "source": [
    "callback = tf.keras.callbacks.EarlyStopping(monitor='loss', patience=3)\n",
    "model.fit(x_train, y_train, batch_size=512, epochs=epoch, validation_split=0.05, callbacks=[callback])"
   ]
  },
  {
   "cell_type": "code",
   "execution_count": 28,
   "id": "825353c9",
   "metadata": {},
   "outputs": [
    {
     "name": "stdout",
     "output_type": "stream",
     "text": [
      "WARNING:tensorflow:Model was constructed with shape (None, 50, 17) for input Tensor(\"lstm_2_input:0\", shape=(None, 50, 17), dtype=float32), but it was called on an input with incompatible shape (None, 30, 17).\n",
      "混同行列[[160  76]\n",
      " [ 65 176]]\n",
      "正解率は0.7044025157232704 適合率は0.7111111111111111 再現率は0.6779661016949152 F値は0.6941431670281994\n"
     ]
    }
   ],
   "source": [
    "mm.evalution(x_test,y_test,model)"
   ]
  },
  {
   "cell_type": "code",
   "execution_count": 29,
   "id": "c08a72c4",
   "metadata": {},
   "outputs": [
    {
     "name": "stdout",
     "output_type": "stream",
     "text": [
      "16965.75999999998\n"
     ]
    }
   ],
   "source": [
    "x_test_close=data_close[(len(data_close)-len(x_test))-1:-1]\n",
    "value = mm.baibai(x_test,model,x_test_close)\n",
    "print(value)"
   ]
  },
  {
   "cell_type": "code",
   "execution_count": 49,
   "id": "539f6f4a",
   "metadata": {},
   "outputs": [
    {
     "name": "stdout",
     "output_type": "stream",
     "text": [
      "WARNING:tensorflow:From C:\\Users\\track\\anaconda3\\envs\\tf_cpu\\lib\\site-packages\\tensorflow\\python\\training\\tracking\\tracking.py:111: Model.state_updates (from tensorflow.python.keras.engine.training) is deprecated and will be removed in a future version.\n",
      "Instructions for updating:\n",
      "This property should not be used in TensorFlow 2.0, as updates are applied automatically.\n",
      "WARNING:tensorflow:From C:\\Users\\track\\anaconda3\\envs\\tf_cpu\\lib\\site-packages\\tensorflow\\python\\training\\tracking\\tracking.py:111: Layer.updates (from tensorflow.python.keras.engine.base_layer) is deprecated and will be removed in a future version.\n",
      "Instructions for updating:\n",
      "This property should not be used in TensorFlow 2.0, as updates are applied automatically.\n",
      "INFO:tensorflow:Assets written to: my_model2\\assets\n"
     ]
    }
   ],
   "source": [
    "model.save(\"my_model2\")\n",
    "#reconstructed_model = tf.keras.models.load_model(\"my_model\")\n",
    "#mm.draw_tran_result(reconstructed_model, x_test, y_test)"
   ]
  },
  {
   "cell_type": "code",
   "execution_count": 16,
   "id": "101877b5",
   "metadata": {
    "scrolled": true
   },
   "outputs": [
    {
     "name": "stderr",
     "output_type": "stream",
     "text": [
      "[Parallel(n_jobs=1)]: Using backend SequentialBackend with 1 concurrent workers.\n",
      "[Parallel(n_jobs=1)]: Done   1 out of   1 | elapsed:    4.8s remaining:    0.0s\n",
      "[Parallel(n_jobs=1)]: Done  15 out of  15 | elapsed:  1.1min finished\n",
      "\n",
      "[2022-06-13 17:19:19] Features: 1/10 -- score: 0.5242680540924043[Parallel(n_jobs=1)]: Using backend SequentialBackend with 1 concurrent workers.\n",
      "[Parallel(n_jobs=1)]: Done   1 out of   1 | elapsed:    3.5s remaining:    0.0s\n",
      "[Parallel(n_jobs=1)]: Done  14 out of  14 | elapsed:   50.9s finished\n",
      "\n",
      "[2022-06-13 17:20:10] Features: 2/10 -- score: 0.5105736030787091[Parallel(n_jobs=1)]: Using backend SequentialBackend with 1 concurrent workers.\n",
      "[Parallel(n_jobs=1)]: Done   1 out of   1 | elapsed:    3.6s remaining:    0.0s\n",
      "[Parallel(n_jobs=1)]: Done  13 out of  13 | elapsed:   48.1s finished\n",
      "\n",
      "[2022-06-13 17:20:58] Features: 3/10 -- score: 0.5157654849181948[Parallel(n_jobs=1)]: Using backend SequentialBackend with 1 concurrent workers.\n",
      "[Parallel(n_jobs=1)]: Done   1 out of   1 | elapsed:    5.0s remaining:    0.0s\n",
      "[Parallel(n_jobs=1)]: Done  12 out of  12 | elapsed:  1.0min finished\n",
      "\n",
      "[2022-06-13 17:22:01] Features: 4/10 -- score: 0.5223973942768688[Parallel(n_jobs=1)]: Using backend SequentialBackend with 1 concurrent workers.\n",
      "[Parallel(n_jobs=1)]: Done   1 out of   1 | elapsed:    4.8s remaining:    0.0s\n",
      "[Parallel(n_jobs=1)]: Done  11 out of  11 | elapsed:   54.7s finished\n",
      "\n",
      "[2022-06-13 17:22:56] Features: 5/10 -- score: 0.5217736976759185[Parallel(n_jobs=1)]: Using backend SequentialBackend with 1 concurrent workers.\n",
      "[Parallel(n_jobs=1)]: Done   1 out of   1 | elapsed:    4.8s remaining:    0.0s\n",
      "[Parallel(n_jobs=1)]: Done  10 out of  10 | elapsed:   49.2s finished\n",
      "\n",
      "[2022-06-13 17:23:45] Features: 6/10 -- score: 0.5207367832648937[Parallel(n_jobs=1)]: Using backend SequentialBackend with 1 concurrent workers.\n",
      "[Parallel(n_jobs=1)]: Done   1 out of   1 | elapsed:    5.0s remaining:    0.0s\n",
      "[Parallel(n_jobs=1)]: Done   9 out of   9 | elapsed:   46.5s finished\n",
      "\n",
      "[2022-06-13 17:24:32] Features: 7/10 -- score: 0.5481074108313804[Parallel(n_jobs=1)]: Using backend SequentialBackend with 1 concurrent workers.\n",
      "[Parallel(n_jobs=1)]: Done   1 out of   1 | elapsed:    5.1s remaining:    0.0s\n",
      "[Parallel(n_jobs=1)]: Done   8 out of   8 | elapsed:   42.3s finished\n",
      "\n",
      "[2022-06-13 17:25:14] Features: 8/10 -- score: 0.5605514587319675[Parallel(n_jobs=1)]: Using backend SequentialBackend with 1 concurrent workers.\n",
      "[Parallel(n_jobs=1)]: Done   1 out of   1 | elapsed:    7.6s remaining:    0.0s\n",
      "[Parallel(n_jobs=1)]: Done   7 out of   7 | elapsed:   53.1s finished\n",
      "\n",
      "[2022-06-13 17:26:07] Features: 9/10 -- score: 0.5723647152409004[Parallel(n_jobs=1)]: Using backend SequentialBackend with 1 concurrent workers.\n",
      "[Parallel(n_jobs=1)]: Done   1 out of   1 | elapsed:    7.9s remaining:    0.0s\n",
      "[Parallel(n_jobs=1)]: Done   6 out of   6 | elapsed:   46.8s finished\n",
      "\n",
      "[2022-06-13 17:26:54] Features: 10/10 -- score: 0.5752673446133338"
     ]
    }
   ],
   "source": [
    "x_train_sfs=data.iloc[:,:-1]\n",
    "y_train_sfs=data.iloc[:,-1]\n",
    "\n",
    "sfs1 = SFS(RandomForestClassifier(), # 使う学習器\n",
    "           k_features=10, #特徴をいくつまで選択するか\n",
    "           forward=True, #Trueでforward selectionになる。Falseでback\n",
    "           floating=False, #後に説明するが、forward selectionの亜種を行うためのもの。\n",
    "           verbose=2, #実行時のlogをどれだけ詳しく表示するか\n",
    "           scoring='accuracy', # 評価指標\n",
    "           cv=5) #クロスバリデーション\n",
    "#ちなみにクロスバリデーションをしない(cv=0)とすると、最終的に選ばれる特徴が変わります。\n",
    "\n",
    "sfs1 = sfs1.fit(x_train_sfs,y_train_sfs)\n",
    "\n",
    "selected_feat = x_train_sfs.columns[list(sfs1.k_feature_idx_)]\n"
   ]
  },
  {
   "cell_type": "code",
   "execution_count": 17,
   "id": "7e747c2c",
   "metadata": {
    "scrolled": true
   },
   "outputs": [
    {
     "data": {
      "text/plain": [
       "{1: {'feature_idx': (11,),\n",
       "  'cv_scores': array([0.52227979, 0.50569948, 0.53008299, 0.53630705, 0.52697095]),\n",
       "  'avg_score': 0.5242680540924043,\n",
       "  'feature_names': ('rsi8',)},\n",
       " 2: {'feature_idx': (11, 13),\n",
       "  'cv_scores': array([0.51606218, 0.51917098, 0.51763485, 0.49273859, 0.50726141]),\n",
       "  'avg_score': 0.5105736030787091,\n",
       "  'feature_names': ('rsi8', 'rsi16')},\n",
       " 3: {'feature_idx': (7, 11, 13),\n",
       "  'cv_scores': array([0.51088083, 0.49948187, 0.52385892, 0.52593361, 0.5186722 ]),\n",
       "  'avg_score': 0.5157654849181948,\n",
       "  'feature_names': ('出来高', 'rsi8', 'rsi16')},\n",
       " 4: {'feature_idx': (7, 11, 13, 14),\n",
       "  'cv_scores': array([0.5357513 , 0.50880829, 0.53215768, 0.52489627, 0.51037344]),\n",
       "  'avg_score': 0.5223973942768688,\n",
       "  'feature_names': ('出来高', 'rsi8', 'rsi16', 'rsi20')},\n",
       " 5: {'feature_idx': (7, 9, 11, 13, 14),\n",
       "  'cv_scores': array([0.53367876, 0.51709845, 0.52697095, 0.51763485, 0.51348548]),\n",
       "  'avg_score': 0.5217736976759185,\n",
       "  'feature_names': ('出来高', '25日平均.1', 'rsi8', 'rsi16', 'rsi20')},\n",
       " 6: {'feature_idx': (3, 7, 9, 11, 13, 14),\n",
       "  'cv_scores': array([0.52849741, 0.52020725, 0.50726141, 0.51970954, 0.5280083 ]),\n",
       "  'avg_score': 0.5207367832648937,\n",
       "  'feature_names': ('終値', '出来高', '25日平均.1', 'rsi8', 'rsi16', 'rsi20')},\n",
       " 7: {'feature_idx': (3, 5, 7, 9, 11, 13, 14),\n",
       "  'cv_scores': array([0.56373057, 0.55854922, 0.54149378, 0.54149378, 0.53526971]),\n",
       "  'avg_score': 0.5481074108313804,\n",
       "  'feature_names': ('終値',\n",
       "   '25日平均',\n",
       "   '出来高',\n",
       "   '25日平均.1',\n",
       "   'rsi8',\n",
       "   'rsi16',\n",
       "   'rsi20')},\n",
       " 8: {'feature_idx': (0, 3, 5, 7, 9, 11, 13, 14),\n",
       "  'cv_scores': array([0.56787565, 0.57409326, 0.54979253, 0.54356846, 0.56742739]),\n",
       "  'avg_score': 0.5605514587319675,\n",
       "  'feature_names': ('始値',\n",
       "   '終値',\n",
       "   '25日平均',\n",
       "   '出来高',\n",
       "   '25日平均.1',\n",
       "   'rsi8',\n",
       "   'rsi16',\n",
       "   'rsi20')},\n",
       " 9: {'feature_idx': (0, 1, 3, 5, 7, 9, 11, 13, 14),\n",
       "  'cv_scores': array([0.59896373, 0.60310881, 0.5653527 , 0.53838174, 0.5560166 ]),\n",
       "  'avg_score': 0.5723647152409004,\n",
       "  'feature_names': ('始値',\n",
       "   '高値',\n",
       "   '終値',\n",
       "   '25日平均',\n",
       "   '出来高',\n",
       "   '25日平均.1',\n",
       "   'rsi8',\n",
       "   'rsi16',\n",
       "   'rsi20')},\n",
       " 10: {'feature_idx': (0, 1, 3, 4, 5, 7, 9, 11, 13, 14),\n",
       "  'cv_scores': array([0.59378238, 0.61761658, 0.59232365, 0.52593361, 0.5466805 ]),\n",
       "  'avg_score': 0.5752673446133338,\n",
       "  'feature_names': ('始値',\n",
       "   '高値',\n",
       "   '終値',\n",
       "   '5日平均',\n",
       "   '25日平均',\n",
       "   '出来高',\n",
       "   '25日平均.1',\n",
       "   'rsi8',\n",
       "   'rsi16',\n",
       "   'rsi20')}}"
      ]
     },
     "execution_count": 17,
     "metadata": {},
     "output_type": "execute_result"
    }
   ],
   "source": [
    "sfs1.subsets_"
   ]
  }
 ],
 "metadata": {
  "kernelspec": {
   "display_name": "Python 3 (ipykernel)",
   "language": "python",
   "name": "python3"
  },
  "language_info": {
   "codemirror_mode": {
    "name": "ipython",
    "version": 3
   },
   "file_extension": ".py",
   "mimetype": "text/x-python",
   "name": "python",
   "nbconvert_exporter": "python",
   "pygments_lexer": "ipython3",
   "version": "3.8.13"
  }
 },
 "nbformat": 4,
 "nbformat_minor": 5
}
