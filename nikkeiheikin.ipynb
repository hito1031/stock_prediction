{
 "cells": [
  {
   "cell_type": "code",
   "execution_count": 59,
   "id": "911aacb4",
   "metadata": {
    "scrolled": true
   },
   "outputs": [],
   "source": [
    "import numpy as np\n",
    "import pandas as pd\n",
    "import matplotlib.pyplot as plt\n",
    "import tensorflow as tf\n",
    "from tensorflow.keras.layers import Dense, Activation, Dropout, LSTM\n",
    "from tensorflow.keras.models import Sequential\n",
    "import importlib\n",
    "import make_data as md\n",
    "importlib.reload(md)\n",
    "import make_model as mm\n",
    "importlib.reload(mm)\n",
    "import optuna\n",
    "from sklearn import metrics\n",
    "from sklearn.metrics import roc_auc_score\n",
    "from mlxtend.feature_selection import SequentialFeatureSelector as SFS\n",
    "from sklearn.ensemble import RandomForestRegressor, RandomForestClassifier\n",
    "from sklearn.svm import SVC\n",
    "from datetime import datetime as dt\n",
    "from datetime import timedelta"
   ]
  },
  {
   "cell_type": "code",
   "execution_count": 5,
   "id": "3191c9fa",
   "metadata": {},
   "outputs": [],
   "source": [
    "data, data_np = md.load_data(\"日経平均00-22日足.csv\",\"日付\")"
   ]
  },
  {
   "cell_type": "code",
   "execution_count": 15,
   "id": "9cbc0ca2",
   "metadata": {},
   "outputs": [
    {
     "data": {
      "text/plain": [
       "日付\n",
       "2022-05-27    0.000000\n",
       "2022-05-26    0.000000\n",
       "2022-05-25    0.469024\n",
       "2022-05-24    0.198639\n",
       "2022-05-23    0.050540\n",
       "                ...   \n",
       "2002-09-18   -0.250535\n",
       "2002-09-17   -0.136549\n",
       "2002-09-13   -0.126647\n",
       "2002-09-12    0.044513\n",
       "2002-09-11    0.035691\n",
       "Name: rsi9, Length: 4822, dtype: float64"
      ]
     },
     "execution_count": 15,
     "metadata": {},
     "output_type": "execute_result"
    }
   ],
   "source": [
    "data[\"rsi9\"]"
   ]
  },
  {
   "cell_type": "code",
   "execution_count": 10,
   "id": "bf1f0a86",
   "metadata": {},
   "outputs": [
    {
     "name": "stderr",
     "output_type": "stream",
     "text": [
      "C:\\Users\\track\\Desktop\\Machine Learning\\株価予測\\make_data.py:95: RuntimeWarning: invalid value encountered in sign\n",
      "  asign = np.sign(data_differ)\n"
     ]
    }
   ],
   "source": [
    "data[\"アッパーエンベロープー終値\"] = md.upper_envelope(data[\"終値\"], data[\"5日平均\"], 1)\n",
    "data[\"ロワーエンベロープー終値\"] = md.lower_envelope(data[\"終値\"], data[\"5日平均\"], 1)\n",
    "data[\"5日平均-25日平均\"] = md.average_line_difference(data[\"5日平均\"], data[\"25日平均\"])\n",
    "data[\"25日平均-75日平均\"] = md.average_line_difference(data[\"25日平均\"], data[\"75日平均\"])\n",
    "data_5_25 = md.cross(data[\"5日平均-25日平均\"])\n",
    "data_25_75 = md.cross(data[\"25日平均-75日平均\"])\n",
    "upper_bband, lower_bband = md.bband(data[\"終値\"] )\n",
    "data[\"アッパーボリンジャーバンド\"] = upper_bband\n",
    "data[\"ロワーボリンジャーバンド\"] = lower_bband\n",
    "data[\"ボリンジャーバンド差\"] = md.average_line_difference(data[\"アッパーボリンジャーバンド\"] ,data[\"ロワーボリンジャーバンド\"])\n",
    "data_bband_border = md.bband_border(data[\"アッパーボリンジャーバンド\"], data[\"ロワーボリンジャーバンド\"], data[\"高値\"], data[\"安値\"])\n",
    "data[\"MACD\"] =  [x - y for (x, y) in zip(md.ema(data[\"終値\"], 9), md.ema(data[\"終値\"], 26))]\n",
    "data[\"シグナルMACD\"] = md.average_line(data[\"MACD\"],9)\n",
    "data_macdcross = md.cross(md.average_line_difference(data[\"MACD\"], data[\"シグナルMACD\"]))\n",
    "data_up_or_down = md.up_or_down(data[\"終値\"])\n",
    "data_close=data[\"終値\"]"
   ]
  },
  {
   "cell_type": "code",
   "execution_count": 11,
   "id": "7c7ce5b4",
   "metadata": {},
   "outputs": [],
   "source": [
    "data = md.standardization(data)"
   ]
  },
  {
   "cell_type": "code",
   "execution_count": 14,
   "id": "1096981a",
   "metadata": {},
   "outputs": [],
   "source": [
    "data_days, data_weeks = md.data_from_year(data.index)\n",
    "#data[\"年始からの日\"] = data_days\n",
    "#data[\"年始からの週\"] = data_weeks\n",
    "data['5-25クロス'] = data_5_25\n",
    "data['25-75クロス'] = data_25_75\n",
    "data[\"ボリンジャーバンドボーダー\"] = data_bband_border\n",
    "data[\"rsi9\"] = md.rsi(data[\"終値\"],9)\n",
    "data[\"rsi14\"] = md.rsi(data[\"終値\"],14)\n",
    "data[\"MACDクロス\"] = data_macdcross"
   ]
  },
  {
   "cell_type": "code",
   "execution_count": 16,
   "id": "17dc0d6b",
   "metadata": {},
   "outputs": [],
   "source": [
    "data = data.drop([\"高値\",\"安値\",\"5日平均.1\",\"25日平均.1\", '5日平均', '25日平均', '75日平均','アッパーボリンジャーバンド', 'ロワーボリンジャーバンド'], axis=1)"
   ]
  },
  {
   "cell_type": "code",
   "execution_count": 17,
   "id": "4475e4bf",
   "metadata": {},
   "outputs": [],
   "source": [
    "data[\"騰落\"]=data_up_or_down\n",
    "data = data.dropna()\n",
    "data_np = data.to_numpy()"
   ]
  },
  {
   "cell_type": "code",
   "execution_count": 60,
   "id": "410beb26",
   "metadata": {},
   "outputs": [],
   "source": [
    "seq_len = 30\n",
    "epoch = 500\n",
    "x_train, y_train, x_test, y_test= mm.data_split(data_np,seq_len=seq_len, y=-1)"
   ]
  },
  {
   "cell_type": "code",
   "execution_count": 61,
   "id": "456583d0",
   "metadata": {
    "scrolled": true
   },
   "outputs": [
    {
     "ename": "ValueError",
     "evalue": "Unknown activation function: leakyrelu",
     "output_type": "error",
     "traceback": [
      "\u001b[1;31m---------------------------------------------------------------------------\u001b[0m",
      "\u001b[1;31mValueError\u001b[0m                                Traceback (most recent call last)",
      "Input \u001b[1;32mIn [61]\u001b[0m, in \u001b[0;36m<cell line: 1>\u001b[1;34m()\u001b[0m\n\u001b[1;32m----> 1\u001b[0m model \u001b[38;5;241m=\u001b[39m \u001b[43mmm\u001b[49m\u001b[38;5;241;43m.\u001b[39;49m\u001b[43mbuild_model\u001b[49m\u001b[43m(\u001b[49m\u001b[43m[\u001b[49m\u001b[43mdata\u001b[49m\u001b[38;5;241;43m.\u001b[39;49m\u001b[43mshape\u001b[49m\u001b[43m[\u001b[49m\u001b[38;5;241;43m1\u001b[39;49m\u001b[43m]\u001b[49m\u001b[43m,\u001b[49m\u001b[38;5;241;43m30\u001b[39;49m\u001b[43m,\u001b[49m\u001b[38;5;241;43m300\u001b[39;49m\u001b[43m,\u001b[49m\u001b[38;5;241;43m1\u001b[39;49m\u001b[43m]\u001b[49m\u001b[43m)\u001b[49m\n\u001b[0;32m      2\u001b[0m callback \u001b[38;5;241m=\u001b[39m tf\u001b[38;5;241m.\u001b[39mkeras\u001b[38;5;241m.\u001b[39mcallbacks\u001b[38;5;241m.\u001b[39mEarlyStopping(monitor\u001b[38;5;241m=\u001b[39m\u001b[38;5;124m'\u001b[39m\u001b[38;5;124mloss\u001b[39m\u001b[38;5;124m'\u001b[39m, patience\u001b[38;5;241m=\u001b[39m\u001b[38;5;241m3\u001b[39m)\n\u001b[0;32m      3\u001b[0m h\u001b[38;5;241m=\u001b[39mmodel\u001b[38;5;241m.\u001b[39mfit(x_train, y_train, batch_size\u001b[38;5;241m=\u001b[39m\u001b[38;5;241m512\u001b[39m, epochs\u001b[38;5;241m=\u001b[39mepoch, validation_split\u001b[38;5;241m=\u001b[39m\u001b[38;5;241m0.05\u001b[39m, callbacks\u001b[38;5;241m=\u001b[39m[callback])\n",
      "File \u001b[1;32m~\\Desktop\\Machine Learning\\株価予測\\make_model.py:52\u001b[0m, in \u001b[0;36mbuild_model\u001b[1;34m(layers)\u001b[0m\n\u001b[0;32m     49\u001b[0m model = Sequential()\n\u001b[0;32m     51\u001b[0m model.add(LSTM(layers[2],input_shape = (layers[1], layers[0]),  return_sequences=True))\n\u001b[1;32m---> 52\u001b[0m #model.add(Activation('relu'))\n\u001b[0;32m     53\u001b[0m model.add(Dropout(0.2))\n\u001b[0;32m     55\u001b[0m model.add(LSTM(layers[2],return_sequences=False))\n",
      "File \u001b[1;32m~\\anaconda3\\envs\\tf_cpu\\lib\\site-packages\\tensorflow\\python\\keras\\layers\\core.py:424\u001b[0m, in \u001b[0;36mActivation.__init__\u001b[1;34m(self, activation, **kwargs)\u001b[0m\n\u001b[0;32m    422\u001b[0m \u001b[38;5;28msuper\u001b[39m(Activation, \u001b[38;5;28mself\u001b[39m)\u001b[38;5;241m.\u001b[39m\u001b[38;5;21m__init__\u001b[39m(\u001b[38;5;241m*\u001b[39m\u001b[38;5;241m*\u001b[39mkwargs)\n\u001b[0;32m    423\u001b[0m \u001b[38;5;28mself\u001b[39m\u001b[38;5;241m.\u001b[39msupports_masking \u001b[38;5;241m=\u001b[39m \u001b[38;5;28;01mTrue\u001b[39;00m\n\u001b[1;32m--> 424\u001b[0m \u001b[38;5;28mself\u001b[39m\u001b[38;5;241m.\u001b[39mactivation \u001b[38;5;241m=\u001b[39m \u001b[43mactivations\u001b[49m\u001b[38;5;241;43m.\u001b[39;49m\u001b[43mget\u001b[49m\u001b[43m(\u001b[49m\u001b[43mactivation\u001b[49m\u001b[43m)\u001b[49m\n",
      "File \u001b[1;32m~\\anaconda3\\envs\\tf_cpu\\lib\\site-packages\\tensorflow\\python\\util\\dispatch.py:201\u001b[0m, in \u001b[0;36madd_dispatch_support.<locals>.wrapper\u001b[1;34m(*args, **kwargs)\u001b[0m\n\u001b[0;32m    199\u001b[0m \u001b[38;5;124;03m\"\"\"Call target, and fall back on dispatchers if there is a TypeError.\"\"\"\u001b[39;00m\n\u001b[0;32m    200\u001b[0m \u001b[38;5;28;01mtry\u001b[39;00m:\n\u001b[1;32m--> 201\u001b[0m   \u001b[38;5;28;01mreturn\u001b[39;00m \u001b[43mtarget\u001b[49m\u001b[43m(\u001b[49m\u001b[38;5;241;43m*\u001b[39;49m\u001b[43margs\u001b[49m\u001b[43m,\u001b[49m\u001b[43m \u001b[49m\u001b[38;5;241;43m*\u001b[39;49m\u001b[38;5;241;43m*\u001b[39;49m\u001b[43mkwargs\u001b[49m\u001b[43m)\u001b[49m\n\u001b[0;32m    202\u001b[0m \u001b[38;5;28;01mexcept\u001b[39;00m (\u001b[38;5;167;01mTypeError\u001b[39;00m, \u001b[38;5;167;01mValueError\u001b[39;00m):\n\u001b[0;32m    203\u001b[0m   \u001b[38;5;66;03m# Note: convert_to_eager_tensor currently raises a ValueError, not a\u001b[39;00m\n\u001b[0;32m    204\u001b[0m   \u001b[38;5;66;03m# TypeError, when given unexpected types.  So we need to catch both.\u001b[39;00m\n\u001b[0;32m    205\u001b[0m   result \u001b[38;5;241m=\u001b[39m dispatch(wrapper, args, kwargs)\n",
      "File \u001b[1;32m~\\anaconda3\\envs\\tf_cpu\\lib\\site-packages\\tensorflow\\python\\keras\\activations.py:529\u001b[0m, in \u001b[0;36mget\u001b[1;34m(identifier)\u001b[0m\n\u001b[0;32m    527\u001b[0m \u001b[38;5;28;01mif\u001b[39;00m \u001b[38;5;28misinstance\u001b[39m(identifier, six\u001b[38;5;241m.\u001b[39mstring_types):\n\u001b[0;32m    528\u001b[0m   identifier \u001b[38;5;241m=\u001b[39m \u001b[38;5;28mstr\u001b[39m(identifier)\n\u001b[1;32m--> 529\u001b[0m   \u001b[38;5;28;01mreturn\u001b[39;00m \u001b[43mdeserialize\u001b[49m\u001b[43m(\u001b[49m\u001b[43midentifier\u001b[49m\u001b[43m)\u001b[49m\n\u001b[0;32m    530\u001b[0m \u001b[38;5;28;01melif\u001b[39;00m \u001b[38;5;28misinstance\u001b[39m(identifier, \u001b[38;5;28mdict\u001b[39m):\n\u001b[0;32m    531\u001b[0m   \u001b[38;5;28;01mreturn\u001b[39;00m deserialize(identifier)\n",
      "File \u001b[1;32m~\\anaconda3\\envs\\tf_cpu\\lib\\site-packages\\tensorflow\\python\\util\\dispatch.py:201\u001b[0m, in \u001b[0;36madd_dispatch_support.<locals>.wrapper\u001b[1;34m(*args, **kwargs)\u001b[0m\n\u001b[0;32m    199\u001b[0m \u001b[38;5;124;03m\"\"\"Call target, and fall back on dispatchers if there is a TypeError.\"\"\"\u001b[39;00m\n\u001b[0;32m    200\u001b[0m \u001b[38;5;28;01mtry\u001b[39;00m:\n\u001b[1;32m--> 201\u001b[0m   \u001b[38;5;28;01mreturn\u001b[39;00m \u001b[43mtarget\u001b[49m\u001b[43m(\u001b[49m\u001b[38;5;241;43m*\u001b[39;49m\u001b[43margs\u001b[49m\u001b[43m,\u001b[49m\u001b[43m \u001b[49m\u001b[38;5;241;43m*\u001b[39;49m\u001b[38;5;241;43m*\u001b[39;49m\u001b[43mkwargs\u001b[49m\u001b[43m)\u001b[49m\n\u001b[0;32m    202\u001b[0m \u001b[38;5;28;01mexcept\u001b[39;00m (\u001b[38;5;167;01mTypeError\u001b[39;00m, \u001b[38;5;167;01mValueError\u001b[39;00m):\n\u001b[0;32m    203\u001b[0m   \u001b[38;5;66;03m# Note: convert_to_eager_tensor currently raises a ValueError, not a\u001b[39;00m\n\u001b[0;32m    204\u001b[0m   \u001b[38;5;66;03m# TypeError, when given unexpected types.  So we need to catch both.\u001b[39;00m\n\u001b[0;32m    205\u001b[0m   result \u001b[38;5;241m=\u001b[39m dispatch(wrapper, args, kwargs)\n",
      "File \u001b[1;32m~\\anaconda3\\envs\\tf_cpu\\lib\\site-packages\\tensorflow\\python\\keras\\activations.py:488\u001b[0m, in \u001b[0;36mdeserialize\u001b[1;34m(name, custom_objects)\u001b[0m\n\u001b[0;32m    457\u001b[0m \u001b[38;5;129m@keras_export\u001b[39m(\u001b[38;5;124m'\u001b[39m\u001b[38;5;124mkeras.activations.deserialize\u001b[39m\u001b[38;5;124m'\u001b[39m)\n\u001b[0;32m    458\u001b[0m \u001b[38;5;129m@dispatch\u001b[39m\u001b[38;5;241m.\u001b[39madd_dispatch_support\n\u001b[0;32m    459\u001b[0m \u001b[38;5;28;01mdef\u001b[39;00m \u001b[38;5;21mdeserialize\u001b[39m(name, custom_objects\u001b[38;5;241m=\u001b[39m\u001b[38;5;28;01mNone\u001b[39;00m):\n\u001b[0;32m    460\u001b[0m   \u001b[38;5;124;03m\"\"\"Returns activation function given a string identifier.\u001b[39;00m\n\u001b[0;32m    461\u001b[0m \n\u001b[0;32m    462\u001b[0m \u001b[38;5;124;03m  Arguments:\u001b[39;00m\n\u001b[1;32m   (...)\u001b[0m\n\u001b[0;32m    486\u001b[0m \u001b[38;5;124;03m      denote any defined Tensorflow activation function.\u001b[39;00m\n\u001b[0;32m    487\u001b[0m \u001b[38;5;124;03m  \"\"\"\u001b[39;00m\n\u001b[1;32m--> 488\u001b[0m   \u001b[38;5;28;01mreturn\u001b[39;00m \u001b[43mdeserialize_keras_object\u001b[49m\u001b[43m(\u001b[49m\n\u001b[0;32m    489\u001b[0m \u001b[43m      \u001b[49m\u001b[43mname\u001b[49m\u001b[43m,\u001b[49m\n\u001b[0;32m    490\u001b[0m \u001b[43m      \u001b[49m\u001b[43mmodule_objects\u001b[49m\u001b[38;5;241;43m=\u001b[39;49m\u001b[38;5;28;43mglobals\u001b[39;49m\u001b[43m(\u001b[49m\u001b[43m)\u001b[49m\u001b[43m,\u001b[49m\n\u001b[0;32m    491\u001b[0m \u001b[43m      \u001b[49m\u001b[43mcustom_objects\u001b[49m\u001b[38;5;241;43m=\u001b[39;49m\u001b[43mcustom_objects\u001b[49m\u001b[43m,\u001b[49m\n\u001b[0;32m    492\u001b[0m \u001b[43m      \u001b[49m\u001b[43mprintable_module_name\u001b[49m\u001b[38;5;241;43m=\u001b[39;49m\u001b[38;5;124;43m'\u001b[39;49m\u001b[38;5;124;43mactivation function\u001b[39;49m\u001b[38;5;124;43m'\u001b[39;49m\u001b[43m)\u001b[49m\n",
      "File \u001b[1;32m~\\anaconda3\\envs\\tf_cpu\\lib\\site-packages\\tensorflow\\python\\keras\\utils\\generic_utils.py:377\u001b[0m, in \u001b[0;36mdeserialize_keras_object\u001b[1;34m(identifier, module_objects, custom_objects, printable_module_name)\u001b[0m\n\u001b[0;32m    375\u001b[0m   obj \u001b[38;5;241m=\u001b[39m module_objects\u001b[38;5;241m.\u001b[39mget(object_name)\n\u001b[0;32m    376\u001b[0m   \u001b[38;5;28;01mif\u001b[39;00m obj \u001b[38;5;129;01mis\u001b[39;00m \u001b[38;5;28;01mNone\u001b[39;00m:\n\u001b[1;32m--> 377\u001b[0m     \u001b[38;5;28;01mraise\u001b[39;00m \u001b[38;5;167;01mValueError\u001b[39;00m(\n\u001b[0;32m    378\u001b[0m         \u001b[38;5;124m'\u001b[39m\u001b[38;5;124mUnknown \u001b[39m\u001b[38;5;124m'\u001b[39m \u001b[38;5;241m+\u001b[39m printable_module_name \u001b[38;5;241m+\u001b[39m \u001b[38;5;124m'\u001b[39m\u001b[38;5;124m: \u001b[39m\u001b[38;5;124m'\u001b[39m \u001b[38;5;241m+\u001b[39m object_name)\n\u001b[0;32m    379\u001b[0m \u001b[38;5;66;03m# Classes passed by name are instantiated with no args, functions are\u001b[39;00m\n\u001b[0;32m    380\u001b[0m \u001b[38;5;66;03m# returned as-is.\u001b[39;00m\n\u001b[0;32m    381\u001b[0m \u001b[38;5;28;01mif\u001b[39;00m tf_inspect\u001b[38;5;241m.\u001b[39misclass(obj):\n",
      "\u001b[1;31mValueError\u001b[0m: Unknown activation function: leakyrelu"
     ]
    }
   ],
   "source": [
    "model = mm.build_model([data.shape[1],30,300,1])\n",
    "callback = tf.keras.callbacks.EarlyStopping(monitor='loss', patience=3)\n",
    "h=model.fit(x_train, y_train, batch_size=512, epochs=epoch, validation_split=0.05, callbacks=[callback])"
   ]
  },
  {
   "cell_type": "code",
   "execution_count": 57,
   "id": "5e83bb30",
   "metadata": {},
   "outputs": [
    {
     "data": {
      "image/png": "[encoded data removed]",
      "text/plain": [
       "<Figure size 432x288 with 1 Axes>"
      ]
     },
     "metadata": {
      "needs_background": "light"
     },
     "output_type": "display_data"
    }
   ],
   "source": [
    "h = pd.DataFrame(h.history)\n",
    "epochs = np.arange(0, len(h[\"loss\"]))\n",
    "plt.plot(epochs, h[\"loss\"], label=\"train_loss\")\n",
    "plt.plot(epochs, h[\"val_loss\"], label=\"val_loss\")\n",
    "plt.title(\"Loss Plot\")\n",
    "plt.xlabel(\"Epoch #\")\n",
    "plt.ylabel(\"Loss\")\n",
    "plt.legend()\n",
    "#plt.savefig(\"Loss.png\")\n",
    "plt.show()"
   ]
  },
  {
   "cell_type": "code",
   "execution_count": 58,
   "id": "825353c9",
   "metadata": {},
   "outputs": [
    {
     "name": "stdout",
     "output_type": "stream",
     "text": [
      "混同行列[[195  53]\n",
      " [ 76 151]]\n",
      "正解率は0.728421052631579 適合率は0.7401960784313726 再現率は0.6651982378854625 F値は0.7006960556844547\n"
     ]
    }
   ],
   "source": [
    "mm.evalution(x_test,y_test,model)"
   ]
  },
  {
   "cell_type": "code",
   "execution_count": 54,
   "id": "c08a72c4",
   "metadata": {},
   "outputs": [
    {
     "name": "stdout",
     "output_type": "stream",
     "text": [
      "354.70000000000437\n"
     ]
    }
   ],
   "source": [
    "x_test_close=data_close[(len(data_close)-len(x_test))-1:-1]\n",
    "value = mm.baibai(x_test,model,x_test_close)\n",
    "print(value)"
   ]
  },
  {
   "cell_type": "code",
   "execution_count": 49,
   "id": "539f6f4a",
   "metadata": {},
   "outputs": [
    {
     "name": "stdout",
     "output_type": "stream",
     "text": [
      "WARNING:tensorflow:From C:\\Users\\track\\anaconda3\\envs\\tf_cpu\\lib\\site-packages\\tensorflow\\python\\training\\tracking\\tracking.py:111: Model.state_updates (from tensorflow.python.keras.engine.training) is deprecated and will be removed in a future version.\n",
      "Instructions for updating:\n",
      "This property should not be used in TensorFlow 2.0, as updates are applied automatically.\n",
      "WARNING:tensorflow:From C:\\Users\\track\\anaconda3\\envs\\tf_cpu\\lib\\site-packages\\tensorflow\\python\\training\\tracking\\tracking.py:111: Layer.updates (from tensorflow.python.keras.engine.base_layer) is deprecated and will be removed in a future version.\n",
      "Instructions for updating:\n",
      "This property should not be used in TensorFlow 2.0, as updates are applied automatically.\n",
      "INFO:tensorflow:Assets written to: my_model2\\assets\n"
     ]
    }
   ],
   "source": [
    "model.save(\"my_model2\")\n",
    "#reconstructed_model = tf.keras.models.load_model(\"my_model\")\n",
    "#mm.draw_tran_result(reconstructed_model, x_test, y_test)"
   ]
  },
  {
   "cell_type": "code",
   "execution_count": 16,
   "id": "101877b5",
   "metadata": {
    "scrolled": true
   },
   "outputs": [
    {
     "name": "stderr",
     "output_type": "stream",
     "text": [
      "[Parallel(n_jobs=1)]: Using backend SequentialBackend with 1 concurrent workers.\n",
      "[Parallel(n_jobs=1)]: Done   1 out of   1 | elapsed:    4.8s remaining:    0.0s\n",
      "[Parallel(n_jobs=1)]: Done  15 out of  15 | elapsed:  1.1min finished\n",
      "\n",
      "[2022-06-13 17:19:19] Features: 1/10 -- score: 0.5242680540924043[Parallel(n_jobs=1)]: Using backend SequentialBackend with 1 concurrent workers.\n",
      "[Parallel(n_jobs=1)]: Done   1 out of   1 | elapsed:    3.5s remaining:    0.0s\n",
      "[Parallel(n_jobs=1)]: Done  14 out of  14 | elapsed:   50.9s finished\n",
      "\n",
      "[2022-06-13 17:20:10] Features: 2/10 -- score: 0.5105736030787091[Parallel(n_jobs=1)]: Using backend SequentialBackend with 1 concurrent workers.\n",
      "[Parallel(n_jobs=1)]: Done   1 out of   1 | elapsed:    3.6s remaining:    0.0s\n",
      "[Parallel(n_jobs=1)]: Done  13 out of  13 | elapsed:   48.1s finished\n",
      "\n",
      "[2022-06-13 17:20:58] Features: 3/10 -- score: 0.5157654849181948[Parallel(n_jobs=1)]: Using backend SequentialBackend with 1 concurrent workers.\n",
      "[Parallel(n_jobs=1)]: Done   1 out of   1 | elapsed:    5.0s remaining:    0.0s\n",
      "[Parallel(n_jobs=1)]: Done  12 out of  12 | elapsed:  1.0min finished\n",
      "\n",
      "[2022-06-13 17:22:01] Features: 4/10 -- score: 0.5223973942768688[Parallel(n_jobs=1)]: Using backend SequentialBackend with 1 concurrent workers.\n",
      "[Parallel(n_jobs=1)]: Done   1 out of   1 | elapsed:    4.8s remaining:    0.0s\n",
      "[Parallel(n_jobs=1)]: Done  11 out of  11 | elapsed:   54.7s finished\n",
      "\n",
      "[2022-06-13 17:22:56] Features: 5/10 -- score: 0.5217736976759185[Parallel(n_jobs=1)]: Using backend SequentialBackend with 1 concurrent workers.\n",
      "[Parallel(n_jobs=1)]: Done   1 out of   1 | elapsed:    4.8s remaining:    0.0s\n",
      "[Parallel(n_jobs=1)]: Done  10 out of  10 | elapsed:   49.2s finished\n",
      "\n",
      "[2022-06-13 17:23:45] Features: 6/10 -- score: 0.5207367832648937[Parallel(n_jobs=1)]: Using backend SequentialBackend with 1 concurrent workers.\n",
      "[Parallel(n_jobs=1)]: Done   1 out of   1 | elapsed:    5.0s remaining:    0.0s\n",
      "[Parallel(n_jobs=1)]: Done   9 out of   9 | elapsed:   46.5s finished\n",
      "\n",
      "[2022-06-13 17:24:32] Features: 7/10 -- score: 0.5481074108313804[Parallel(n_jobs=1)]: Using backend SequentialBackend with 1 concurrent workers.\n",
      "[Parallel(n_jobs=1)]: Done   1 out of   1 | elapsed:    5.1s remaining:    0.0s\n",
      "[Parallel(n_jobs=1)]: Done   8 out of   8 | elapsed:   42.3s finished\n",
      "\n",
      "[2022-06-13 17:25:14] Features: 8/10 -- score: 0.5605514587319675[Parallel(n_jobs=1)]: Using backend SequentialBackend with 1 concurrent workers.\n",
      "[Parallel(n_jobs=1)]: Done   1 out of   1 | elapsed:    7.6s remaining:    0.0s\n",
      "[Parallel(n_jobs=1)]: Done   7 out of   7 | elapsed:   53.1s finished\n",
      "\n",
      "[2022-06-13 17:26:07] Features: 9/10 -- score: 0.5723647152409004[Parallel(n_jobs=1)]: Using backend SequentialBackend with 1 concurrent workers.\n",
      "[Parallel(n_jobs=1)]: Done   1 out of   1 | elapsed:    7.9s remaining:    0.0s\n",
      "[Parallel(n_jobs=1)]: Done   6 out of   6 | elapsed:   46.8s finished\n",
      "\n",
      "[2022-06-13 17:26:54] Features: 10/10 -- score: 0.5752673446133338"
     ]
    }
   ],
   "source": [
    "x_train_sfs=data.iloc[:,:-1]\n",
    "y_train_sfs=data.iloc[:,-1]\n",
    "\n",
    "sfs1 = SFS(RandomForestClassifier(), # 使う学習器\n",
    "           k_features=10, #特徴をいくつまで選択するか\n",
    "           forward=True, #Trueでforward selectionになる。Falseでback\n",
    "           floating=False, #後に説明するが、forward selectionの亜種を行うためのもの。\n",
    "           verbose=2, #実行時のlogをどれだけ詳しく表示するか\n",
    "           scoring='accuracy', # 評価指標\n",
    "           cv=5) #クロスバリデーション\n",
    "#ちなみにクロスバリデーションをしない(cv=0)とすると、最終的に選ばれる特徴が変わります。\n",
    "\n",
    "sfs1 = sfs1.fit(x_train_sfs,y_train_sfs)\n",
    "\n",
    "selected_feat = x_train_sfs.columns[list(sfs1.k_feature_idx_)]\n"
   ]
  },
  {
   "cell_type": "code",
   "execution_count": 17,
   "id": "7e747c2c",
   "metadata": {
    "scrolled": true
   },
   "outputs": [
    {
     "data": {
      "text/plain": [
       "{1: {'feature_idx': (11,),\n",
       "  'cv_scores': array([0.52227979, 0.50569948, 0.53008299, 0.53630705, 0.52697095]),\n",
       "  'avg_score': 0.5242680540924043,\n",
       "  'feature_names': ('rsi8',)},\n",
       " 2: {'feature_idx': (11, 13),\n",
       "  'cv_scores': array([0.51606218, 0.51917098, 0.51763485, 0.49273859, 0.50726141]),\n",
       "  'avg_score': 0.5105736030787091,\n",
       "  'feature_names': ('rsi8', 'rsi16')},\n",
       " 3: {'feature_idx': (7, 11, 13),\n",
       "  'cv_scores': array([0.51088083, 0.49948187, 0.52385892, 0.52593361, 0.5186722 ]),\n",
       "  'avg_score': 0.5157654849181948,\n",
       "  'feature_names': ('出来高', 'rsi8', 'rsi16')},\n",
       " 4: {'feature_idx': (7, 11, 13, 14),\n",
       "  'cv_scores': array([0.5357513 , 0.50880829, 0.53215768, 0.52489627, 0.51037344]),\n",
       "  'avg_score': 0.5223973942768688,\n",
       "  'feature_names': ('出来高', 'rsi8', 'rsi16', 'rsi20')},\n",
       " 5: {'feature_idx': (7, 9, 11, 13, 14),\n",
       "  'cv_scores': array([0.53367876, 0.51709845, 0.52697095, 0.51763485, 0.51348548]),\n",
       "  'avg_score': 0.5217736976759185,\n",
       "  'feature_names': ('出来高', '25日平均.1', 'rsi8', 'rsi16', 'rsi20')},\n",
       " 6: {'feature_idx': (3, 7, 9, 11, 13, 14),\n",
       "  'cv_scores': array([0.52849741, 0.52020725, 0.50726141, 0.51970954, 0.5280083 ]),\n",
       "  'avg_score': 0.5207367832648937,\n",
       "  'feature_names': ('終値', '出来高', '25日平均.1', 'rsi8', 'rsi16', 'rsi20')},\n",
       " 7: {'feature_idx': (3, 5, 7, 9, 11, 13, 14),\n",
       "  'cv_scores': array([0.56373057, 0.55854922, 0.54149378, 0.54149378, 0.53526971]),\n",
       "  'avg_score': 0.5481074108313804,\n",
       "  'feature_names': ('終値',\n",
       "   '25日平均',\n",
       "   '出来高',\n",
       "   '25日平均.1',\n",
       "   'rsi8',\n",
       "   'rsi16',\n",
       "   'rsi20')},\n",
       " 8: {'feature_idx': (0, 3, 5, 7, 9, 11, 13, 14),\n",
       "  'cv_scores': array([0.56787565, 0.57409326, 0.54979253, 0.54356846, 0.56742739]),\n",
       "  'avg_score': 0.5605514587319675,\n",
       "  'feature_names': ('始値',\n",
       "   '終値',\n",
       "   '25日平均',\n",
       "   '出来高',\n",
       "   '25日平均.1',\n",
       "   'rsi8',\n",
       "   'rsi16',\n",
       "   'rsi20')},\n",
       " 9: {'feature_idx': (0, 1, 3, 5, 7, 9, 11, 13, 14),\n",
       "  'cv_scores': array([0.59896373, 0.60310881, 0.5653527 , 0.53838174, 0.5560166 ]),\n",
       "  'avg_score': 0.5723647152409004,\n",
       "  'feature_names': ('始値',\n",
       "   '高値',\n",
       "   '終値',\n",
       "   '25日平均',\n",
       "   '出来高',\n",
       "   '25日平均.1',\n",
       "   'rsi8',\n",
       "   'rsi16',\n",
       "   'rsi20')},\n",
       " 10: {'feature_idx': (0, 1, 3, 4, 5, 7, 9, 11, 13, 14),\n",
       "  'cv_scores': array([0.59378238, 0.61761658, 0.59232365, 0.52593361, 0.5466805 ]),\n",
       "  'avg_score': 0.5752673446133338,\n",
       "  'feature_names': ('始値',\n",
       "   '高値',\n",
       "   '終値',\n",
       "   '5日平均',\n",
       "   '25日平均',\n",
       "   '出来高',\n",
       "   '25日平均.1',\n",
       "   'rsi8',\n",
       "   'rsi16',\n",
       "   'rsi20')}}"
      ]
     },
     "execution_count": 17,
     "metadata": {},
     "output_type": "execute_result"
    }
   ],
   "source": [
    "sfs1.subsets_"
   ]
  }
 ],
 "metadata": {
  "kernelspec": {
   "display_name": "Python 3 (ipykernel)",
   "language": "python",
   "name": "python3"
  },
  "language_info": {
   "codemirror_mode": {
    "name": "ipython",
    "version": 3
   },
   "file_extension": ".py",
   "mimetype": "text/x-python",
   "name": "python",
   "nbconvert_exporter": "python",
   "pygments_lexer": "ipython3",
   "version": "3.8.13"
  }
 },
 "nbformat": 4,
 "nbformat_minor": 5
}
